{
 "cells": [
  {
   "cell_type": "code",
   "execution_count": 4,
   "id": "38c28908-a499-4ecf-a98d-ef0524ee09d4",
   "metadata": {},
   "outputs": [],
   "source": [
    "import random\n",
    "random.seed(100)"
   ]
  },
  {
   "cell_type": "code",
   "execution_count": 5,
   "id": "1aed05a7-7236-4517-b489-bfe09eb55519",
   "metadata": {},
   "outputs": [],
   "source": [
    "import pandas as pd\n",
    "import numpy as np\n",
    "import matplotlib.pyplot as plt\n",
    "import seaborn as sns\n",
    "from sklearn.model_selection import train_test_split\n",
    "from sklearn.impute import KNNImputer\n",
    "from sklearn.preprocessing import MinMaxScaler\n",
    "from sklearn.discriminant_analysis import LinearDiscriminantAnalysis\n",
    "from mpl_toolkits.mplot3d import Axes3D\n",
    "from sklearn.linear_model import LogisticRegression\n",
    "from sklearn.neighbors import KNeighborsClassifier\n",
    "from sklearn.tree import DecisionTreeClassifier\n",
    "from sklearn.ensemble import RandomForestClassifier, GradientBoostingClassifier, AdaBoostClassifier\n",
    "from sklearn.svm import SVC\n",
    "from sklearn.metrics import accuracy_score,roc_auc_score, roc_curve, auc\n",
    "from itertools import cycle\n",
    "from sklearn.preprocessing import LabelBinarizer\n",
    "from sklearn.metrics import RocCurveDisplay"
   ]
  },
  {
   "cell_type": "code",
   "execution_count": 6,
   "id": "87de9d4e-cd41-42bf-a70b-caece0394735",
   "metadata": {},
   "outputs": [],
   "source": [
    "df = pd.read_csv(\"musicData.csv\")"
   ]
  },
  {
   "cell_type": "code",
   "execution_count": 7,
   "id": "c216e0aa-564f-48b6-bcfa-fe04e0cefc4f",
   "metadata": {},
   "outputs": [
    {
     "data": {
      "text/html": [
       "<div>\n",
       "<style scoped>\n",
       "    .dataframe tbody tr th:only-of-type {\n",
       "        vertical-align: middle;\n",
       "    }\n",
       "\n",
       "    .dataframe tbody tr th {\n",
       "        vertical-align: top;\n",
       "    }\n",
       "\n",
       "    .dataframe thead th {\n",
       "        text-align: right;\n",
       "    }\n",
       "</style>\n",
       "<table border=\"1\" class=\"dataframe\">\n",
       "  <thead>\n",
       "    <tr style=\"text-align: right;\">\n",
       "      <th></th>\n",
       "      <th>instance_id</th>\n",
       "      <th>artist_name</th>\n",
       "      <th>track_name</th>\n",
       "      <th>popularity</th>\n",
       "      <th>acousticness</th>\n",
       "      <th>danceability</th>\n",
       "      <th>duration_ms</th>\n",
       "      <th>energy</th>\n",
       "      <th>instrumentalness</th>\n",
       "      <th>key</th>\n",
       "      <th>liveness</th>\n",
       "      <th>loudness</th>\n",
       "      <th>mode</th>\n",
       "      <th>speechiness</th>\n",
       "      <th>tempo</th>\n",
       "      <th>obtained_date</th>\n",
       "      <th>valence</th>\n",
       "      <th>music_genre</th>\n",
       "    </tr>\n",
       "  </thead>\n",
       "  <tbody>\n",
       "    <tr>\n",
       "      <th>0</th>\n",
       "      <td>32894.0</td>\n",
       "      <td>Röyksopp</td>\n",
       "      <td>Röyksopp's Night Out</td>\n",
       "      <td>27.0</td>\n",
       "      <td>0.00468</td>\n",
       "      <td>0.652</td>\n",
       "      <td>-1.0</td>\n",
       "      <td>0.941</td>\n",
       "      <td>0.79200</td>\n",
       "      <td>A#</td>\n",
       "      <td>0.115</td>\n",
       "      <td>-5.201</td>\n",
       "      <td>Minor</td>\n",
       "      <td>0.0748</td>\n",
       "      <td>100.889</td>\n",
       "      <td>4-Apr</td>\n",
       "      <td>0.759</td>\n",
       "      <td>Electronic</td>\n",
       "    </tr>\n",
       "    <tr>\n",
       "      <th>1</th>\n",
       "      <td>46652.0</td>\n",
       "      <td>Thievery Corporation</td>\n",
       "      <td>The Shining Path</td>\n",
       "      <td>31.0</td>\n",
       "      <td>0.01270</td>\n",
       "      <td>0.622</td>\n",
       "      <td>218293.0</td>\n",
       "      <td>0.890</td>\n",
       "      <td>0.95000</td>\n",
       "      <td>D</td>\n",
       "      <td>0.124</td>\n",
       "      <td>-7.043</td>\n",
       "      <td>Minor</td>\n",
       "      <td>0.0300</td>\n",
       "      <td>115.00200000000001</td>\n",
       "      <td>4-Apr</td>\n",
       "      <td>0.531</td>\n",
       "      <td>Electronic</td>\n",
       "    </tr>\n",
       "    <tr>\n",
       "      <th>2</th>\n",
       "      <td>30097.0</td>\n",
       "      <td>Dillon Francis</td>\n",
       "      <td>Hurricane</td>\n",
       "      <td>28.0</td>\n",
       "      <td>0.00306</td>\n",
       "      <td>0.620</td>\n",
       "      <td>215613.0</td>\n",
       "      <td>0.755</td>\n",
       "      <td>0.01180</td>\n",
       "      <td>G#</td>\n",
       "      <td>0.534</td>\n",
       "      <td>-4.617</td>\n",
       "      <td>Major</td>\n",
       "      <td>0.0345</td>\n",
       "      <td>127.994</td>\n",
       "      <td>4-Apr</td>\n",
       "      <td>0.333</td>\n",
       "      <td>Electronic</td>\n",
       "    </tr>\n",
       "    <tr>\n",
       "      <th>3</th>\n",
       "      <td>62177.0</td>\n",
       "      <td>Dubloadz</td>\n",
       "      <td>Nitro</td>\n",
       "      <td>34.0</td>\n",
       "      <td>0.02540</td>\n",
       "      <td>0.774</td>\n",
       "      <td>166875.0</td>\n",
       "      <td>0.700</td>\n",
       "      <td>0.00253</td>\n",
       "      <td>C#</td>\n",
       "      <td>0.157</td>\n",
       "      <td>-4.498</td>\n",
       "      <td>Major</td>\n",
       "      <td>0.2390</td>\n",
       "      <td>128.014</td>\n",
       "      <td>4-Apr</td>\n",
       "      <td>0.270</td>\n",
       "      <td>Electronic</td>\n",
       "    </tr>\n",
       "    <tr>\n",
       "      <th>4</th>\n",
       "      <td>24907.0</td>\n",
       "      <td>What So Not</td>\n",
       "      <td>Divide &amp; Conquer</td>\n",
       "      <td>32.0</td>\n",
       "      <td>0.00465</td>\n",
       "      <td>0.638</td>\n",
       "      <td>222369.0</td>\n",
       "      <td>0.587</td>\n",
       "      <td>0.90900</td>\n",
       "      <td>F#</td>\n",
       "      <td>0.157</td>\n",
       "      <td>-6.266</td>\n",
       "      <td>Major</td>\n",
       "      <td>0.0413</td>\n",
       "      <td>145.036</td>\n",
       "      <td>4-Apr</td>\n",
       "      <td>0.323</td>\n",
       "      <td>Electronic</td>\n",
       "    </tr>\n",
       "  </tbody>\n",
       "</table>\n",
       "</div>"
      ],
      "text/plain": [
       "   instance_id           artist_name            track_name  popularity  \\\n",
       "0      32894.0              Röyksopp  Röyksopp's Night Out        27.0   \n",
       "1      46652.0  Thievery Corporation      The Shining Path        31.0   \n",
       "2      30097.0        Dillon Francis             Hurricane        28.0   \n",
       "3      62177.0              Dubloadz                 Nitro        34.0   \n",
       "4      24907.0           What So Not      Divide & Conquer        32.0   \n",
       "\n",
       "   acousticness  danceability  duration_ms  energy  instrumentalness key  \\\n",
       "0       0.00468         0.652         -1.0   0.941           0.79200  A#   \n",
       "1       0.01270         0.622     218293.0   0.890           0.95000   D   \n",
       "2       0.00306         0.620     215613.0   0.755           0.01180  G#   \n",
       "3       0.02540         0.774     166875.0   0.700           0.00253  C#   \n",
       "4       0.00465         0.638     222369.0   0.587           0.90900  F#   \n",
       "\n",
       "   liveness  loudness   mode  speechiness               tempo obtained_date  \\\n",
       "0     0.115    -5.201  Minor       0.0748             100.889         4-Apr   \n",
       "1     0.124    -7.043  Minor       0.0300  115.00200000000001         4-Apr   \n",
       "2     0.534    -4.617  Major       0.0345             127.994         4-Apr   \n",
       "3     0.157    -4.498  Major       0.2390             128.014         4-Apr   \n",
       "4     0.157    -6.266  Major       0.0413             145.036         4-Apr   \n",
       "\n",
       "   valence music_genre  \n",
       "0    0.759  Electronic  \n",
       "1    0.531  Electronic  \n",
       "2    0.333  Electronic  \n",
       "3    0.270  Electronic  \n",
       "4    0.323  Electronic  "
      ]
     },
     "execution_count": 7,
     "metadata": {},
     "output_type": "execute_result"
    }
   ],
   "source": [
    "df.head()"
   ]
  },
  {
   "cell_type": "markdown",
   "id": "395a5624-983c-40a8-b932-120d17e35807",
   "metadata": {},
   "source": [
    "#### Exploratory Data-Analysis and Pre-processing"
   ]
  },
  {
   "cell_type": "code",
   "execution_count": 8,
   "id": "7d857bd6-509b-48ad-926e-c5cec042da59",
   "metadata": {},
   "outputs": [
    {
     "data": {
      "text/html": [
       "<div>\n",
       "<style scoped>\n",
       "    .dataframe tbody tr th:only-of-type {\n",
       "        vertical-align: middle;\n",
       "    }\n",
       "\n",
       "    .dataframe tbody tr th {\n",
       "        vertical-align: top;\n",
       "    }\n",
       "\n",
       "    .dataframe thead th {\n",
       "        text-align: right;\n",
       "    }\n",
       "</style>\n",
       "<table border=\"1\" class=\"dataframe\">\n",
       "  <thead>\n",
       "    <tr style=\"text-align: right;\">\n",
       "      <th></th>\n",
       "      <th>instance_id</th>\n",
       "      <th>popularity</th>\n",
       "      <th>acousticness</th>\n",
       "      <th>danceability</th>\n",
       "      <th>duration_ms</th>\n",
       "      <th>energy</th>\n",
       "      <th>instrumentalness</th>\n",
       "      <th>liveness</th>\n",
       "      <th>loudness</th>\n",
       "      <th>speechiness</th>\n",
       "      <th>valence</th>\n",
       "    </tr>\n",
       "  </thead>\n",
       "  <tbody>\n",
       "    <tr>\n",
       "      <th>count</th>\n",
       "      <td>50000.000000</td>\n",
       "      <td>50000.000000</td>\n",
       "      <td>50000.000000</td>\n",
       "      <td>50000.000000</td>\n",
       "      <td>5.000000e+04</td>\n",
       "      <td>50000.000000</td>\n",
       "      <td>50000.000000</td>\n",
       "      <td>50000.000000</td>\n",
       "      <td>50000.000000</td>\n",
       "      <td>50000.000000</td>\n",
       "      <td>50000.000000</td>\n",
       "    </tr>\n",
       "    <tr>\n",
       "      <th>mean</th>\n",
       "      <td>55888.396360</td>\n",
       "      <td>44.220420</td>\n",
       "      <td>0.306383</td>\n",
       "      <td>0.558241</td>\n",
       "      <td>2.212526e+05</td>\n",
       "      <td>0.599755</td>\n",
       "      <td>0.181601</td>\n",
       "      <td>0.193896</td>\n",
       "      <td>-9.133761</td>\n",
       "      <td>0.093586</td>\n",
       "      <td>0.456264</td>\n",
       "    </tr>\n",
       "    <tr>\n",
       "      <th>std</th>\n",
       "      <td>20725.256253</td>\n",
       "      <td>15.542008</td>\n",
       "      <td>0.341340</td>\n",
       "      <td>0.178632</td>\n",
       "      <td>1.286720e+05</td>\n",
       "      <td>0.264559</td>\n",
       "      <td>0.325409</td>\n",
       "      <td>0.161637</td>\n",
       "      <td>6.162990</td>\n",
       "      <td>0.101373</td>\n",
       "      <td>0.247119</td>\n",
       "    </tr>\n",
       "    <tr>\n",
       "      <th>min</th>\n",
       "      <td>20002.000000</td>\n",
       "      <td>0.000000</td>\n",
       "      <td>0.000000</td>\n",
       "      <td>0.059600</td>\n",
       "      <td>-1.000000e+00</td>\n",
       "      <td>0.000792</td>\n",
       "      <td>0.000000</td>\n",
       "      <td>0.009670</td>\n",
       "      <td>-47.046000</td>\n",
       "      <td>0.022300</td>\n",
       "      <td>0.000000</td>\n",
       "    </tr>\n",
       "    <tr>\n",
       "      <th>25%</th>\n",
       "      <td>37973.500000</td>\n",
       "      <td>34.000000</td>\n",
       "      <td>0.020000</td>\n",
       "      <td>0.442000</td>\n",
       "      <td>1.748000e+05</td>\n",
       "      <td>0.433000</td>\n",
       "      <td>0.000000</td>\n",
       "      <td>0.096900</td>\n",
       "      <td>-10.860000</td>\n",
       "      <td>0.036100</td>\n",
       "      <td>0.257000</td>\n",
       "    </tr>\n",
       "    <tr>\n",
       "      <th>50%</th>\n",
       "      <td>55913.500000</td>\n",
       "      <td>45.000000</td>\n",
       "      <td>0.144000</td>\n",
       "      <td>0.568000</td>\n",
       "      <td>2.192810e+05</td>\n",
       "      <td>0.643000</td>\n",
       "      <td>0.000158</td>\n",
       "      <td>0.126000</td>\n",
       "      <td>-7.276500</td>\n",
       "      <td>0.048900</td>\n",
       "      <td>0.448000</td>\n",
       "    </tr>\n",
       "    <tr>\n",
       "      <th>75%</th>\n",
       "      <td>73863.250000</td>\n",
       "      <td>56.000000</td>\n",
       "      <td>0.552000</td>\n",
       "      <td>0.687000</td>\n",
       "      <td>2.686122e+05</td>\n",
       "      <td>0.815000</td>\n",
       "      <td>0.155000</td>\n",
       "      <td>0.244000</td>\n",
       "      <td>-5.173000</td>\n",
       "      <td>0.098525</td>\n",
       "      <td>0.648000</td>\n",
       "    </tr>\n",
       "    <tr>\n",
       "      <th>max</th>\n",
       "      <td>91759.000000</td>\n",
       "      <td>99.000000</td>\n",
       "      <td>0.996000</td>\n",
       "      <td>0.986000</td>\n",
       "      <td>4.830606e+06</td>\n",
       "      <td>0.999000</td>\n",
       "      <td>0.996000</td>\n",
       "      <td>1.000000</td>\n",
       "      <td>3.744000</td>\n",
       "      <td>0.942000</td>\n",
       "      <td>0.992000</td>\n",
       "    </tr>\n",
       "  </tbody>\n",
       "</table>\n",
       "</div>"
      ],
      "text/plain": [
       "        instance_id    popularity  acousticness  danceability   duration_ms  \\\n",
       "count  50000.000000  50000.000000  50000.000000  50000.000000  5.000000e+04   \n",
       "mean   55888.396360     44.220420      0.306383      0.558241  2.212526e+05   \n",
       "std    20725.256253     15.542008      0.341340      0.178632  1.286720e+05   \n",
       "min    20002.000000      0.000000      0.000000      0.059600 -1.000000e+00   \n",
       "25%    37973.500000     34.000000      0.020000      0.442000  1.748000e+05   \n",
       "50%    55913.500000     45.000000      0.144000      0.568000  2.192810e+05   \n",
       "75%    73863.250000     56.000000      0.552000      0.687000  2.686122e+05   \n",
       "max    91759.000000     99.000000      0.996000      0.986000  4.830606e+06   \n",
       "\n",
       "             energy  instrumentalness      liveness      loudness  \\\n",
       "count  50000.000000      50000.000000  50000.000000  50000.000000   \n",
       "mean       0.599755          0.181601      0.193896     -9.133761   \n",
       "std        0.264559          0.325409      0.161637      6.162990   \n",
       "min        0.000792          0.000000      0.009670    -47.046000   \n",
       "25%        0.433000          0.000000      0.096900    -10.860000   \n",
       "50%        0.643000          0.000158      0.126000     -7.276500   \n",
       "75%        0.815000          0.155000      0.244000     -5.173000   \n",
       "max        0.999000          0.996000      1.000000      3.744000   \n",
       "\n",
       "        speechiness       valence  \n",
       "count  50000.000000  50000.000000  \n",
       "mean       0.093586      0.456264  \n",
       "std        0.101373      0.247119  \n",
       "min        0.022300      0.000000  \n",
       "25%        0.036100      0.257000  \n",
       "50%        0.048900      0.448000  \n",
       "75%        0.098525      0.648000  \n",
       "max        0.942000      0.992000  "
      ]
     },
     "execution_count": 8,
     "metadata": {},
     "output_type": "execute_result"
    }
   ],
   "source": [
    "df.describe()"
   ]
  },
  {
   "cell_type": "code",
   "execution_count": 9,
   "id": "bd9be47d-6184-49ad-a72c-0a39e2e78556",
   "metadata": {},
   "outputs": [
    {
     "data": {
      "text/plain": [
       "(50005, 18)"
      ]
     },
     "execution_count": 9,
     "metadata": {},
     "output_type": "execute_result"
    }
   ],
   "source": [
    "df.shape"
   ]
  },
  {
   "cell_type": "code",
   "execution_count": 10,
   "id": "51b27187-cabe-45a5-b0e3-15d3716d15fa",
   "metadata": {},
   "outputs": [
    {
     "data": {
      "text/plain": [
       "instance_id         float64\n",
       "artist_name          object\n",
       "track_name           object\n",
       "popularity          float64\n",
       "acousticness        float64\n",
       "danceability        float64\n",
       "duration_ms         float64\n",
       "energy              float64\n",
       "instrumentalness    float64\n",
       "key                  object\n",
       "liveness            float64\n",
       "loudness            float64\n",
       "mode                 object\n",
       "speechiness         float64\n",
       "tempo                object\n",
       "obtained_date        object\n",
       "valence             float64\n",
       "music_genre          object\n",
       "dtype: object"
      ]
     },
     "execution_count": 10,
     "metadata": {},
     "output_type": "execute_result"
    }
   ],
   "source": [
    "df.dtypes"
   ]
  },
  {
   "cell_type": "code",
   "execution_count": 11,
   "id": "ec61a41a-eaad-4295-9afc-9a56573fa0bc",
   "metadata": {},
   "outputs": [],
   "source": [
    "data = df.copy()"
   ]
  },
  {
   "cell_type": "code",
   "execution_count": 12,
   "id": "3c129f20-7f67-425b-bdb8-500a39d22a82",
   "metadata": {},
   "outputs": [],
   "source": [
    "# dropping redundant columns\n",
    "data.drop([\"instance_id\", \"artist_name\",\"track_name\", \"obtained_date\"], axis=1, inplace=True)"
   ]
  },
  {
   "cell_type": "code",
   "execution_count": 13,
   "id": "7315988b-e413-4462-8387-1f0e2e5eeded",
   "metadata": {},
   "outputs": [
    {
     "data": {
      "text/html": [
       "<div>\n",
       "<style scoped>\n",
       "    .dataframe tbody tr th:only-of-type {\n",
       "        vertical-align: middle;\n",
       "    }\n",
       "\n",
       "    .dataframe tbody tr th {\n",
       "        vertical-align: top;\n",
       "    }\n",
       "\n",
       "    .dataframe thead th {\n",
       "        text-align: right;\n",
       "    }\n",
       "</style>\n",
       "<table border=\"1\" class=\"dataframe\">\n",
       "  <thead>\n",
       "    <tr style=\"text-align: right;\">\n",
       "      <th></th>\n",
       "      <th>popularity</th>\n",
       "      <th>acousticness</th>\n",
       "      <th>danceability</th>\n",
       "      <th>duration_ms</th>\n",
       "      <th>energy</th>\n",
       "      <th>instrumentalness</th>\n",
       "      <th>key</th>\n",
       "      <th>liveness</th>\n",
       "      <th>loudness</th>\n",
       "      <th>mode</th>\n",
       "      <th>speechiness</th>\n",
       "      <th>tempo</th>\n",
       "      <th>valence</th>\n",
       "      <th>music_genre</th>\n",
       "    </tr>\n",
       "  </thead>\n",
       "  <tbody>\n",
       "    <tr>\n",
       "      <th>0</th>\n",
       "      <td>27.0</td>\n",
       "      <td>0.00468</td>\n",
       "      <td>0.652</td>\n",
       "      <td>-1.0</td>\n",
       "      <td>0.941</td>\n",
       "      <td>0.79200</td>\n",
       "      <td>A#</td>\n",
       "      <td>0.115</td>\n",
       "      <td>-5.201</td>\n",
       "      <td>Minor</td>\n",
       "      <td>0.0748</td>\n",
       "      <td>100.889</td>\n",
       "      <td>0.759</td>\n",
       "      <td>Electronic</td>\n",
       "    </tr>\n",
       "    <tr>\n",
       "      <th>1</th>\n",
       "      <td>31.0</td>\n",
       "      <td>0.01270</td>\n",
       "      <td>0.622</td>\n",
       "      <td>218293.0</td>\n",
       "      <td>0.890</td>\n",
       "      <td>0.95000</td>\n",
       "      <td>D</td>\n",
       "      <td>0.124</td>\n",
       "      <td>-7.043</td>\n",
       "      <td>Minor</td>\n",
       "      <td>0.0300</td>\n",
       "      <td>115.00200000000001</td>\n",
       "      <td>0.531</td>\n",
       "      <td>Electronic</td>\n",
       "    </tr>\n",
       "    <tr>\n",
       "      <th>2</th>\n",
       "      <td>28.0</td>\n",
       "      <td>0.00306</td>\n",
       "      <td>0.620</td>\n",
       "      <td>215613.0</td>\n",
       "      <td>0.755</td>\n",
       "      <td>0.01180</td>\n",
       "      <td>G#</td>\n",
       "      <td>0.534</td>\n",
       "      <td>-4.617</td>\n",
       "      <td>Major</td>\n",
       "      <td>0.0345</td>\n",
       "      <td>127.994</td>\n",
       "      <td>0.333</td>\n",
       "      <td>Electronic</td>\n",
       "    </tr>\n",
       "    <tr>\n",
       "      <th>3</th>\n",
       "      <td>34.0</td>\n",
       "      <td>0.02540</td>\n",
       "      <td>0.774</td>\n",
       "      <td>166875.0</td>\n",
       "      <td>0.700</td>\n",
       "      <td>0.00253</td>\n",
       "      <td>C#</td>\n",
       "      <td>0.157</td>\n",
       "      <td>-4.498</td>\n",
       "      <td>Major</td>\n",
       "      <td>0.2390</td>\n",
       "      <td>128.014</td>\n",
       "      <td>0.270</td>\n",
       "      <td>Electronic</td>\n",
       "    </tr>\n",
       "    <tr>\n",
       "      <th>4</th>\n",
       "      <td>32.0</td>\n",
       "      <td>0.00465</td>\n",
       "      <td>0.638</td>\n",
       "      <td>222369.0</td>\n",
       "      <td>0.587</td>\n",
       "      <td>0.90900</td>\n",
       "      <td>F#</td>\n",
       "      <td>0.157</td>\n",
       "      <td>-6.266</td>\n",
       "      <td>Major</td>\n",
       "      <td>0.0413</td>\n",
       "      <td>145.036</td>\n",
       "      <td>0.323</td>\n",
       "      <td>Electronic</td>\n",
       "    </tr>\n",
       "  </tbody>\n",
       "</table>\n",
       "</div>"
      ],
      "text/plain": [
       "   popularity  acousticness  danceability  duration_ms  energy  \\\n",
       "0        27.0       0.00468         0.652         -1.0   0.941   \n",
       "1        31.0       0.01270         0.622     218293.0   0.890   \n",
       "2        28.0       0.00306         0.620     215613.0   0.755   \n",
       "3        34.0       0.02540         0.774     166875.0   0.700   \n",
       "4        32.0       0.00465         0.638     222369.0   0.587   \n",
       "\n",
       "   instrumentalness key  liveness  loudness   mode  speechiness  \\\n",
       "0           0.79200  A#     0.115    -5.201  Minor       0.0748   \n",
       "1           0.95000   D     0.124    -7.043  Minor       0.0300   \n",
       "2           0.01180  G#     0.534    -4.617  Major       0.0345   \n",
       "3           0.00253  C#     0.157    -4.498  Major       0.2390   \n",
       "4           0.90900  F#     0.157    -6.266  Major       0.0413   \n",
       "\n",
       "                tempo  valence music_genre  \n",
       "0             100.889    0.759  Electronic  \n",
       "1  115.00200000000001    0.531  Electronic  \n",
       "2             127.994    0.333  Electronic  \n",
       "3             128.014    0.270  Electronic  \n",
       "4             145.036    0.323  Electronic  "
      ]
     },
     "execution_count": 13,
     "metadata": {},
     "output_type": "execute_result"
    }
   ],
   "source": [
    "data.head()"
   ]
  },
  {
   "cell_type": "code",
   "execution_count": 14,
   "id": "bfd86f40-3f77-476a-8332-04dd2405f7d7",
   "metadata": {},
   "outputs": [
    {
     "data": {
      "text/plain": [
       "popularity          5\n",
       "acousticness        5\n",
       "danceability        5\n",
       "duration_ms         5\n",
       "energy              5\n",
       "instrumentalness    5\n",
       "key                 5\n",
       "liveness            5\n",
       "loudness            5\n",
       "mode                5\n",
       "speechiness         5\n",
       "tempo               5\n",
       "valence             5\n",
       "music_genre         5\n",
       "dtype: int64"
      ]
     },
     "execution_count": 14,
     "metadata": {},
     "output_type": "execute_result"
    }
   ],
   "source": [
    "# checking for missing values\n",
    "data.isna().sum()"
   ]
  },
  {
   "cell_type": "code",
   "execution_count": 15,
   "id": "19b51b26-2bc3-4654-9457-09cb473708e0",
   "metadata": {},
   "outputs": [
    {
     "data": {
      "text/html": [
       "<div>\n",
       "<style scoped>\n",
       "    .dataframe tbody tr th:only-of-type {\n",
       "        vertical-align: middle;\n",
       "    }\n",
       "\n",
       "    .dataframe tbody tr th {\n",
       "        vertical-align: top;\n",
       "    }\n",
       "\n",
       "    .dataframe thead th {\n",
       "        text-align: right;\n",
       "    }\n",
       "</style>\n",
       "<table border=\"1\" class=\"dataframe\">\n",
       "  <thead>\n",
       "    <tr style=\"text-align: right;\">\n",
       "      <th></th>\n",
       "      <th>popularity</th>\n",
       "      <th>acousticness</th>\n",
       "      <th>danceability</th>\n",
       "      <th>duration_ms</th>\n",
       "      <th>energy</th>\n",
       "      <th>instrumentalness</th>\n",
       "      <th>key</th>\n",
       "      <th>liveness</th>\n",
       "      <th>loudness</th>\n",
       "      <th>mode</th>\n",
       "      <th>speechiness</th>\n",
       "      <th>tempo</th>\n",
       "      <th>valence</th>\n",
       "      <th>music_genre</th>\n",
       "    </tr>\n",
       "  </thead>\n",
       "  <tbody>\n",
       "    <tr>\n",
       "      <th>10000</th>\n",
       "      <td>NaN</td>\n",
       "      <td>NaN</td>\n",
       "      <td>NaN</td>\n",
       "      <td>NaN</td>\n",
       "      <td>NaN</td>\n",
       "      <td>NaN</td>\n",
       "      <td>NaN</td>\n",
       "      <td>NaN</td>\n",
       "      <td>NaN</td>\n",
       "      <td>NaN</td>\n",
       "      <td>NaN</td>\n",
       "      <td>NaN</td>\n",
       "      <td>NaN</td>\n",
       "      <td>NaN</td>\n",
       "    </tr>\n",
       "    <tr>\n",
       "      <th>10001</th>\n",
       "      <td>NaN</td>\n",
       "      <td>NaN</td>\n",
       "      <td>NaN</td>\n",
       "      <td>NaN</td>\n",
       "      <td>NaN</td>\n",
       "      <td>NaN</td>\n",
       "      <td>NaN</td>\n",
       "      <td>NaN</td>\n",
       "      <td>NaN</td>\n",
       "      <td>NaN</td>\n",
       "      <td>NaN</td>\n",
       "      <td>NaN</td>\n",
       "      <td>NaN</td>\n",
       "      <td>NaN</td>\n",
       "    </tr>\n",
       "    <tr>\n",
       "      <th>10002</th>\n",
       "      <td>NaN</td>\n",
       "      <td>NaN</td>\n",
       "      <td>NaN</td>\n",
       "      <td>NaN</td>\n",
       "      <td>NaN</td>\n",
       "      <td>NaN</td>\n",
       "      <td>NaN</td>\n",
       "      <td>NaN</td>\n",
       "      <td>NaN</td>\n",
       "      <td>NaN</td>\n",
       "      <td>NaN</td>\n",
       "      <td>NaN</td>\n",
       "      <td>NaN</td>\n",
       "      <td>NaN</td>\n",
       "    </tr>\n",
       "    <tr>\n",
       "      <th>10003</th>\n",
       "      <td>NaN</td>\n",
       "      <td>NaN</td>\n",
       "      <td>NaN</td>\n",
       "      <td>NaN</td>\n",
       "      <td>NaN</td>\n",
       "      <td>NaN</td>\n",
       "      <td>NaN</td>\n",
       "      <td>NaN</td>\n",
       "      <td>NaN</td>\n",
       "      <td>NaN</td>\n",
       "      <td>NaN</td>\n",
       "      <td>NaN</td>\n",
       "      <td>NaN</td>\n",
       "      <td>NaN</td>\n",
       "    </tr>\n",
       "    <tr>\n",
       "      <th>10004</th>\n",
       "      <td>NaN</td>\n",
       "      <td>NaN</td>\n",
       "      <td>NaN</td>\n",
       "      <td>NaN</td>\n",
       "      <td>NaN</td>\n",
       "      <td>NaN</td>\n",
       "      <td>NaN</td>\n",
       "      <td>NaN</td>\n",
       "      <td>NaN</td>\n",
       "      <td>NaN</td>\n",
       "      <td>NaN</td>\n",
       "      <td>NaN</td>\n",
       "      <td>NaN</td>\n",
       "      <td>NaN</td>\n",
       "    </tr>\n",
       "  </tbody>\n",
       "</table>\n",
       "</div>"
      ],
      "text/plain": [
       "       popularity  acousticness  danceability  duration_ms  energy  \\\n",
       "10000         NaN           NaN           NaN          NaN     NaN   \n",
       "10001         NaN           NaN           NaN          NaN     NaN   \n",
       "10002         NaN           NaN           NaN          NaN     NaN   \n",
       "10003         NaN           NaN           NaN          NaN     NaN   \n",
       "10004         NaN           NaN           NaN          NaN     NaN   \n",
       "\n",
       "       instrumentalness  key  liveness  loudness mode  speechiness tempo  \\\n",
       "10000               NaN  NaN       NaN       NaN  NaN          NaN   NaN   \n",
       "10001               NaN  NaN       NaN       NaN  NaN          NaN   NaN   \n",
       "10002               NaN  NaN       NaN       NaN  NaN          NaN   NaN   \n",
       "10003               NaN  NaN       NaN       NaN  NaN          NaN   NaN   \n",
       "10004               NaN  NaN       NaN       NaN  NaN          NaN   NaN   \n",
       "\n",
       "       valence music_genre  \n",
       "10000      NaN         NaN  \n",
       "10001      NaN         NaN  \n",
       "10002      NaN         NaN  \n",
       "10003      NaN         NaN  \n",
       "10004      NaN         NaN  "
      ]
     },
     "execution_count": 15,
     "metadata": {},
     "output_type": "execute_result"
    }
   ],
   "source": [
    "df_null = data[data.isnull().any(axis=1)]\n",
    "df_null\n",
    "# entire row is filled with null values --> we drop them"
   ]
  },
  {
   "cell_type": "code",
   "execution_count": 16,
   "id": "7997653c-3a9b-40b6-aea5-ef8c999ec0e2",
   "metadata": {},
   "outputs": [
    {
     "data": {
      "text/html": [
       "<div>\n",
       "<style scoped>\n",
       "    .dataframe tbody tr th:only-of-type {\n",
       "        vertical-align: middle;\n",
       "    }\n",
       "\n",
       "    .dataframe tbody tr th {\n",
       "        vertical-align: top;\n",
       "    }\n",
       "\n",
       "    .dataframe thead th {\n",
       "        text-align: right;\n",
       "    }\n",
       "</style>\n",
       "<table border=\"1\" class=\"dataframe\">\n",
       "  <thead>\n",
       "    <tr style=\"text-align: right;\">\n",
       "      <th></th>\n",
       "      <th>popularity</th>\n",
       "      <th>acousticness</th>\n",
       "      <th>danceability</th>\n",
       "      <th>duration_ms</th>\n",
       "      <th>energy</th>\n",
       "      <th>instrumentalness</th>\n",
       "      <th>key</th>\n",
       "      <th>liveness</th>\n",
       "      <th>loudness</th>\n",
       "      <th>mode</th>\n",
       "      <th>speechiness</th>\n",
       "      <th>tempo</th>\n",
       "      <th>valence</th>\n",
       "      <th>music_genre</th>\n",
       "    </tr>\n",
       "  </thead>\n",
       "  <tbody>\n",
       "    <tr>\n",
       "      <th>0</th>\n",
       "      <td>27.0</td>\n",
       "      <td>0.00468</td>\n",
       "      <td>0.652</td>\n",
       "      <td>-1.0</td>\n",
       "      <td>0.941</td>\n",
       "      <td>0.79200</td>\n",
       "      <td>A#</td>\n",
       "      <td>0.115</td>\n",
       "      <td>-5.201</td>\n",
       "      <td>Minor</td>\n",
       "      <td>0.0748</td>\n",
       "      <td>100.889</td>\n",
       "      <td>0.759</td>\n",
       "      <td>Electronic</td>\n",
       "    </tr>\n",
       "    <tr>\n",
       "      <th>1</th>\n",
       "      <td>31.0</td>\n",
       "      <td>0.01270</td>\n",
       "      <td>0.622</td>\n",
       "      <td>218293.0</td>\n",
       "      <td>0.890</td>\n",
       "      <td>0.95000</td>\n",
       "      <td>D</td>\n",
       "      <td>0.124</td>\n",
       "      <td>-7.043</td>\n",
       "      <td>Minor</td>\n",
       "      <td>0.0300</td>\n",
       "      <td>115.00200000000001</td>\n",
       "      <td>0.531</td>\n",
       "      <td>Electronic</td>\n",
       "    </tr>\n",
       "    <tr>\n",
       "      <th>2</th>\n",
       "      <td>28.0</td>\n",
       "      <td>0.00306</td>\n",
       "      <td>0.620</td>\n",
       "      <td>215613.0</td>\n",
       "      <td>0.755</td>\n",
       "      <td>0.01180</td>\n",
       "      <td>G#</td>\n",
       "      <td>0.534</td>\n",
       "      <td>-4.617</td>\n",
       "      <td>Major</td>\n",
       "      <td>0.0345</td>\n",
       "      <td>127.994</td>\n",
       "      <td>0.333</td>\n",
       "      <td>Electronic</td>\n",
       "    </tr>\n",
       "    <tr>\n",
       "      <th>3</th>\n",
       "      <td>34.0</td>\n",
       "      <td>0.02540</td>\n",
       "      <td>0.774</td>\n",
       "      <td>166875.0</td>\n",
       "      <td>0.700</td>\n",
       "      <td>0.00253</td>\n",
       "      <td>C#</td>\n",
       "      <td>0.157</td>\n",
       "      <td>-4.498</td>\n",
       "      <td>Major</td>\n",
       "      <td>0.2390</td>\n",
       "      <td>128.014</td>\n",
       "      <td>0.270</td>\n",
       "      <td>Electronic</td>\n",
       "    </tr>\n",
       "    <tr>\n",
       "      <th>4</th>\n",
       "      <td>32.0</td>\n",
       "      <td>0.00465</td>\n",
       "      <td>0.638</td>\n",
       "      <td>222369.0</td>\n",
       "      <td>0.587</td>\n",
       "      <td>0.90900</td>\n",
       "      <td>F#</td>\n",
       "      <td>0.157</td>\n",
       "      <td>-6.266</td>\n",
       "      <td>Major</td>\n",
       "      <td>0.0413</td>\n",
       "      <td>145.036</td>\n",
       "      <td>0.323</td>\n",
       "      <td>Electronic</td>\n",
       "    </tr>\n",
       "  </tbody>\n",
       "</table>\n",
       "</div>"
      ],
      "text/plain": [
       "   popularity  acousticness  danceability  duration_ms  energy  \\\n",
       "0        27.0       0.00468         0.652         -1.0   0.941   \n",
       "1        31.0       0.01270         0.622     218293.0   0.890   \n",
       "2        28.0       0.00306         0.620     215613.0   0.755   \n",
       "3        34.0       0.02540         0.774     166875.0   0.700   \n",
       "4        32.0       0.00465         0.638     222369.0   0.587   \n",
       "\n",
       "   instrumentalness key  liveness  loudness   mode  speechiness  \\\n",
       "0           0.79200  A#     0.115    -5.201  Minor       0.0748   \n",
       "1           0.95000   D     0.124    -7.043  Minor       0.0300   \n",
       "2           0.01180  G#     0.534    -4.617  Major       0.0345   \n",
       "3           0.00253  C#     0.157    -4.498  Major       0.2390   \n",
       "4           0.90900  F#     0.157    -6.266  Major       0.0413   \n",
       "\n",
       "                tempo  valence music_genre  \n",
       "0             100.889    0.759  Electronic  \n",
       "1  115.00200000000001    0.531  Electronic  \n",
       "2             127.994    0.333  Electronic  \n",
       "3             128.014    0.270  Electronic  \n",
       "4             145.036    0.323  Electronic  "
      ]
     },
     "execution_count": 16,
     "metadata": {},
     "output_type": "execute_result"
    }
   ],
   "source": [
    "data.dropna(inplace=True)\n",
    "data.head()"
   ]
  },
  {
   "cell_type": "code",
   "execution_count": 17,
   "id": "b0acb765-b8da-4f53-a0d5-f2e387a5d09b",
   "metadata": {},
   "outputs": [],
   "source": [
    "# checking for hidden missing values"
   ]
  },
  {
   "cell_type": "code",
   "execution_count": 18,
   "id": "bdc823fa-7059-4d55-9b85-ea92023b96e7",
   "metadata": {},
   "outputs": [
    {
     "data": {
      "text/plain": [
       "52.0    1316\n",
       "54.0    1295\n",
       "53.0    1286\n",
       "50.0    1265\n",
       "55.0    1250\n",
       "        ... \n",
       "93.0       2\n",
       "92.0       1\n",
       "99.0       1\n",
       "94.0       1\n",
       "97.0       1\n",
       "Name: popularity, Length: 99, dtype: int64"
      ]
     },
     "execution_count": 18,
     "metadata": {},
     "output_type": "execute_result"
    }
   ],
   "source": [
    "data.popularity.value_counts()"
   ]
  },
  {
   "cell_type": "code",
   "execution_count": 19,
   "id": "d418d64f-c648-44e0-b75b-d5333028ce1a",
   "metadata": {},
   "outputs": [
    {
     "data": {
      "text/plain": [
       "0.995000    278\n",
       "0.994000    240\n",
       "0.992000    215\n",
       "0.993000    198\n",
       "0.991000    158\n",
       "           ... \n",
       "0.000039      1\n",
       "0.005080      1\n",
       "0.000094      1\n",
       "0.000055      1\n",
       "0.000000      1\n",
       "Name: acousticness, Length: 4193, dtype: int64"
      ]
     },
     "execution_count": 19,
     "metadata": {},
     "output_type": "execute_result"
    }
   ],
   "source": [
    "data.acousticness.value_counts()"
   ]
  },
  {
   "cell_type": "code",
   "execution_count": 20,
   "id": "48b5864d-1eef-4f94-8194-e5994d3905d7",
   "metadata": {},
   "outputs": [
    {
     "data": {
      "text/plain": [
       "0.5290    143\n",
       "0.6570    139\n",
       "0.6100    134\n",
       "0.5540    133\n",
       "0.5470    130\n",
       "         ... \n",
       "0.0868      1\n",
       "0.0887      1\n",
       "0.0646      1\n",
       "0.0656      1\n",
       "0.0663      1\n",
       "Name: danceability, Length: 1088, dtype: int64"
      ]
     },
     "execution_count": 20,
     "metadata": {},
     "output_type": "execute_result"
    }
   ],
   "source": [
    "data.danceability.value_counts()"
   ]
  },
  {
   "cell_type": "code",
   "execution_count": 21,
   "id": "5c548bdd-8287-4f9c-ad26-6e5fd4038b60",
   "metadata": {},
   "outputs": [
    {
     "data": {
      "text/plain": [
       "-1.0         4939\n",
       " 240000.0      33\n",
       " 192000.0      32\n",
       " 180000.0      28\n",
       " 216000.0      20\n",
       "             ... \n",
       " 124627.0       1\n",
       " 203998.0       1\n",
       " 156572.0       1\n",
       " 120280.0       1\n",
       " 270027.0       1\n",
       "Name: duration_ms, Length: 26028, dtype: int64"
      ]
     },
     "execution_count": 21,
     "metadata": {},
     "output_type": "execute_result"
    }
   ],
   "source": [
    "data.duration_ms.value_counts()"
   ]
  },
  {
   "cell_type": "code",
   "execution_count": 22,
   "id": "2dd098da-f6de-4e5e-8f49-2e1267276d33",
   "metadata": {},
   "outputs": [],
   "source": [
    "# uncovering hidden missing values\n",
    "data['duration_ms'] = data['duration_ms'].replace(-1, pd.NA)"
   ]
  },
  {
   "cell_type": "code",
   "execution_count": 23,
   "id": "bd7567b5-0853-4767-baac-7c1e94625748",
   "metadata": {},
   "outputs": [
    {
     "data": {
      "text/plain": [
       "4939"
      ]
     },
     "execution_count": 23,
     "metadata": {},
     "output_type": "execute_result"
    }
   ],
   "source": [
    "data['duration_ms'].isna().sum()"
   ]
  },
  {
   "cell_type": "code",
   "execution_count": 24,
   "id": "8dbfce7f-b798-4747-b208-a04e564287ac",
   "metadata": {},
   "outputs": [],
   "source": [
    "# calculating mean values for duration_ms for each music genre\n",
    "genre_to_duration = {}\n",
    "\n",
    "for category in data['music_genre'].unique():\n",
    "    subset = data[data['music_genre'] == category]\n",
    "    \n",
    "    mean_subset = subset['duration_ms'].mean()\n",
    "    \n",
    "    genre_to_duration[category] = mean_subset"
   ]
  },
  {
   "cell_type": "code",
   "execution_count": 25,
   "id": "b687c740-ce9c-4212-885d-b2fe3ccd4ab1",
   "metadata": {},
   "outputs": [
    {
     "data": {
      "text/plain": [
       "{'Electronic': 270703.4312596856,\n",
       " 'Anime': 230705.68102496135,\n",
       " 'Jazz': 264371.0262047524,\n",
       " 'Alternative': 233316.5956974939,\n",
       " 'Country': 216899.0317213842,\n",
       " 'Rap': 218927.02139037434,\n",
       " 'Blues': 253820.2266991366,\n",
       " 'Rock': 236833.3120409526,\n",
       " 'Classical': 309661.8941857875,\n",
       " 'Hip-Hop': 219951.26807095343}"
      ]
     },
     "execution_count": 25,
     "metadata": {},
     "output_type": "execute_result"
    }
   ],
   "source": [
    "genre_to_duration"
   ]
  },
  {
   "cell_type": "code",
   "execution_count": 26,
   "id": "519d0a1b-11fc-4466-8083-e809be3f98de",
   "metadata": {},
   "outputs": [],
   "source": [
    "# mean imputation for \"duration_ms\" depending on music genre\n",
    "for genre, mean_duration in genre_to_duration.items():\n",
    "    data.loc[data['music_genre'] == genre, 'duration_ms'] = data.loc[data['music_genre'] == genre, 'duration_ms'].fillna(float(mean_duration))"
   ]
  },
  {
   "cell_type": "code",
   "execution_count": 27,
   "id": "d1d0a1db-d874-49a1-8af2-accec1823eb6",
   "metadata": {},
   "outputs": [],
   "source": [
    "data.duration_ms = data.duration_ms.astype(float)"
   ]
  },
  {
   "cell_type": "code",
   "execution_count": 28,
   "id": "31c3964a-4f1f-472a-ba02-967bd925eec0",
   "metadata": {},
   "outputs": [
    {
     "data": {
      "text/plain": [
       "218927.021390    512\n",
       "309661.894186    511\n",
       "236833.312041    507\n",
       "264371.026205    497\n",
       "216899.031721    492\n",
       "                ... \n",
       "270927.000000      1\n",
       "132067.000000      1\n",
       "124627.000000      1\n",
       "203998.000000      1\n",
       "270027.000000      1\n",
       "Name: duration_ms, Length: 26037, dtype: int64"
      ]
     },
     "execution_count": 28,
     "metadata": {},
     "output_type": "execute_result"
    }
   ],
   "source": [
    "data.duration_ms.value_counts()"
   ]
  },
  {
   "cell_type": "code",
   "execution_count": 29,
   "id": "be2f1054-54d7-4009-9335-21dea52bbf39",
   "metadata": {},
   "outputs": [
    {
     "data": {
      "text/plain": [
       "0"
      ]
     },
     "execution_count": 29,
     "metadata": {},
     "output_type": "execute_result"
    }
   ],
   "source": [
    "data.duration_ms.isna().sum()"
   ]
  },
  {
   "cell_type": "code",
   "execution_count": 30,
   "id": "c1e2b1a5-e678-4565-bf73-396d1a870b68",
   "metadata": {},
   "outputs": [
    {
     "data": {
      "text/plain": [
       "0.67500    103\n",
       "0.80500    103\n",
       "0.72000     99\n",
       "0.85900     98\n",
       "0.83000     96\n",
       "          ... \n",
       "0.00881      1\n",
       "0.00772      1\n",
       "0.00812      1\n",
       "0.00770      1\n",
       "0.07250      1\n",
       "Name: energy, Length: 2085, dtype: int64"
      ]
     },
     "execution_count": 30,
     "metadata": {},
     "output_type": "execute_result"
    }
   ],
   "source": [
    "data.energy.value_counts()"
   ]
  },
  {
   "cell_type": "code",
   "execution_count": 31,
   "id": "4ca37e49-6875-4903-99f1-0745954f546d",
   "metadata": {},
   "outputs": [
    {
     "data": {
      "text/plain": [
       "0.000000    15001\n",
       "0.898000       70\n",
       "0.902000       69\n",
       "0.912000       66\n",
       "0.897000       66\n",
       "            ...  \n",
       "0.000081        1\n",
       "0.097900        1\n",
       "0.005540        1\n",
       "0.083800        1\n",
       "0.000008        1\n",
       "Name: instrumentalness, Length: 5131, dtype: int64"
      ]
     },
     "execution_count": 31,
     "metadata": {},
     "output_type": "execute_result"
    }
   ],
   "source": [
    "data.instrumentalness.value_counts()"
   ]
  },
  {
   "cell_type": "code",
   "execution_count": 32,
   "id": "937656db-cf1f-467e-8ee0-2b94c8a73e1f",
   "metadata": {},
   "outputs": [
    {
     "data": {
      "text/plain": [
       "G     5727\n",
       "C     5522\n",
       "C#    5405\n",
       "D     5265\n",
       "A     4825\n",
       "F     4341\n",
       "B     3789\n",
       "E     3760\n",
       "A#    3356\n",
       "G#    3319\n",
       "F#    3101\n",
       "D#    1590\n",
       "Name: key, dtype: int64"
      ]
     },
     "execution_count": 32,
     "metadata": {},
     "output_type": "execute_result"
    }
   ],
   "source": [
    "data.key.value_counts()"
   ]
  },
  {
   "cell_type": "code",
   "execution_count": 33,
   "id": "5b2514b3-61d8-45fa-8cea-b6e60524a0a9",
   "metadata": {},
   "outputs": [
    {
     "data": {
      "text/plain": [
       "8     5727\n",
       "1     5522\n",
       "2     5405\n",
       "3     5265\n",
       "10    4825\n",
       "6     4341\n",
       "12    3789\n",
       "5     3760\n",
       "11    3356\n",
       "9     3319\n",
       "7     3101\n",
       "4     1590\n",
       "Name: key, dtype: int64"
      ]
     },
     "execution_count": 33,
     "metadata": {},
     "output_type": "execute_result"
    }
   ],
   "source": [
    "# transforming the key variable into numerical data\n",
    "# using domain knowledge to assign keys numbers\n",
    "# order: C, C#, D, D#, E, F, F#, G, G#, A, A#, B\n",
    "key_to_num = {'C': 1, 'C#': 2, 'D': 3, 'D#': 4, 'E': 5, 'F': 6, 'F#': 7, 'G': 8, 'G#': 9, 'A': 10, 'A#': 11, 'B': 12}\n",
    "data['key'] = data['key'].replace(key_to_num)\n",
    "\n",
    "data['key'].value_counts()"
   ]
  },
  {
   "cell_type": "code",
   "execution_count": 34,
   "id": "49f47d51-80df-42ec-bddd-13a9fa019170",
   "metadata": {},
   "outputs": [
    {
     "data": {
      "text/plain": [
       "0.1100    625\n",
       "0.1080    610\n",
       "0.1110    609\n",
       "0.1090    552\n",
       "0.1070    542\n",
       "         ... \n",
       "0.0300      1\n",
       "0.0353      1\n",
       "0.0246      1\n",
       "0.0279      1\n",
       "0.8230      1\n",
       "Name: liveness, Length: 1646, dtype: int64"
      ]
     },
     "execution_count": 34,
     "metadata": {},
     "output_type": "execute_result"
    }
   ],
   "source": [
    "data.liveness.value_counts()"
   ]
  },
  {
   "cell_type": "code",
   "execution_count": 35,
   "id": "17ef50f7-9b22-42b9-a8a9-c93e7c4d9e10",
   "metadata": {},
   "outputs": [
    {
     "data": {
      "text/plain": [
       "-5.443     19\n",
       "-5.133     17\n",
       "-7.066     17\n",
       "-5.013     16\n",
       "-5.587     16\n",
       "           ..\n",
       "-14.863     1\n",
       "-25.928     1\n",
       "-13.154     1\n",
       "-22.622     1\n",
       " 0.000      1\n",
       "Name: loudness, Length: 17247, dtype: int64"
      ]
     },
     "execution_count": 35,
     "metadata": {},
     "output_type": "execute_result"
    }
   ],
   "source": [
    "data.loudness.value_counts()"
   ]
  },
  {
   "cell_type": "code",
   "execution_count": 36,
   "id": "0a350c34-30a7-4e5e-9761-5fa2be649dd9",
   "metadata": {},
   "outputs": [
    {
     "data": {
      "text/plain": [
       "Major    32099\n",
       "Minor    17901\n",
       "Name: mode, dtype: int64"
      ]
     },
     "execution_count": 36,
     "metadata": {},
     "output_type": "execute_result"
    }
   ],
   "source": [
    "data['mode'].value_counts()"
   ]
  },
  {
   "cell_type": "code",
   "execution_count": 37,
   "id": "0e791f6e-efc4-4b5b-b0c8-fb3e7f66294f",
   "metadata": {},
   "outputs": [
    {
     "data": {
      "text/html": [
       "<div>\n",
       "<style scoped>\n",
       "    .dataframe tbody tr th:only-of-type {\n",
       "        vertical-align: middle;\n",
       "    }\n",
       "\n",
       "    .dataframe tbody tr th {\n",
       "        vertical-align: top;\n",
       "    }\n",
       "\n",
       "    .dataframe thead th {\n",
       "        text-align: right;\n",
       "    }\n",
       "</style>\n",
       "<table border=\"1\" class=\"dataframe\">\n",
       "  <thead>\n",
       "    <tr style=\"text-align: right;\">\n",
       "      <th></th>\n",
       "      <th>popularity</th>\n",
       "      <th>acousticness</th>\n",
       "      <th>danceability</th>\n",
       "      <th>duration_ms</th>\n",
       "      <th>energy</th>\n",
       "      <th>instrumentalness</th>\n",
       "      <th>key</th>\n",
       "      <th>liveness</th>\n",
       "      <th>loudness</th>\n",
       "      <th>speechiness</th>\n",
       "      <th>tempo</th>\n",
       "      <th>valence</th>\n",
       "      <th>music_genre</th>\n",
       "      <th>mode_Major</th>\n",
       "    </tr>\n",
       "  </thead>\n",
       "  <tbody>\n",
       "    <tr>\n",
       "      <th>0</th>\n",
       "      <td>27.0</td>\n",
       "      <td>0.00468</td>\n",
       "      <td>0.652</td>\n",
       "      <td>270703.43126</td>\n",
       "      <td>0.941</td>\n",
       "      <td>0.79200</td>\n",
       "      <td>11</td>\n",
       "      <td>0.115</td>\n",
       "      <td>-5.201</td>\n",
       "      <td>0.0748</td>\n",
       "      <td>100.889</td>\n",
       "      <td>0.759</td>\n",
       "      <td>Electronic</td>\n",
       "      <td>0</td>\n",
       "    </tr>\n",
       "    <tr>\n",
       "      <th>1</th>\n",
       "      <td>31.0</td>\n",
       "      <td>0.01270</td>\n",
       "      <td>0.622</td>\n",
       "      <td>218293.00000</td>\n",
       "      <td>0.890</td>\n",
       "      <td>0.95000</td>\n",
       "      <td>3</td>\n",
       "      <td>0.124</td>\n",
       "      <td>-7.043</td>\n",
       "      <td>0.0300</td>\n",
       "      <td>115.00200000000001</td>\n",
       "      <td>0.531</td>\n",
       "      <td>Electronic</td>\n",
       "      <td>0</td>\n",
       "    </tr>\n",
       "    <tr>\n",
       "      <th>2</th>\n",
       "      <td>28.0</td>\n",
       "      <td>0.00306</td>\n",
       "      <td>0.620</td>\n",
       "      <td>215613.00000</td>\n",
       "      <td>0.755</td>\n",
       "      <td>0.01180</td>\n",
       "      <td>9</td>\n",
       "      <td>0.534</td>\n",
       "      <td>-4.617</td>\n",
       "      <td>0.0345</td>\n",
       "      <td>127.994</td>\n",
       "      <td>0.333</td>\n",
       "      <td>Electronic</td>\n",
       "      <td>1</td>\n",
       "    </tr>\n",
       "    <tr>\n",
       "      <th>3</th>\n",
       "      <td>34.0</td>\n",
       "      <td>0.02540</td>\n",
       "      <td>0.774</td>\n",
       "      <td>166875.00000</td>\n",
       "      <td>0.700</td>\n",
       "      <td>0.00253</td>\n",
       "      <td>2</td>\n",
       "      <td>0.157</td>\n",
       "      <td>-4.498</td>\n",
       "      <td>0.2390</td>\n",
       "      <td>128.014</td>\n",
       "      <td>0.270</td>\n",
       "      <td>Electronic</td>\n",
       "      <td>1</td>\n",
       "    </tr>\n",
       "    <tr>\n",
       "      <th>4</th>\n",
       "      <td>32.0</td>\n",
       "      <td>0.00465</td>\n",
       "      <td>0.638</td>\n",
       "      <td>222369.00000</td>\n",
       "      <td>0.587</td>\n",
       "      <td>0.90900</td>\n",
       "      <td>7</td>\n",
       "      <td>0.157</td>\n",
       "      <td>-6.266</td>\n",
       "      <td>0.0413</td>\n",
       "      <td>145.036</td>\n",
       "      <td>0.323</td>\n",
       "      <td>Electronic</td>\n",
       "      <td>1</td>\n",
       "    </tr>\n",
       "  </tbody>\n",
       "</table>\n",
       "</div>"
      ],
      "text/plain": [
       "   popularity  acousticness  danceability   duration_ms  energy  \\\n",
       "0        27.0       0.00468         0.652  270703.43126   0.941   \n",
       "1        31.0       0.01270         0.622  218293.00000   0.890   \n",
       "2        28.0       0.00306         0.620  215613.00000   0.755   \n",
       "3        34.0       0.02540         0.774  166875.00000   0.700   \n",
       "4        32.0       0.00465         0.638  222369.00000   0.587   \n",
       "\n",
       "   instrumentalness  key  liveness  loudness  speechiness               tempo  \\\n",
       "0           0.79200   11     0.115    -5.201       0.0748             100.889   \n",
       "1           0.95000    3     0.124    -7.043       0.0300  115.00200000000001   \n",
       "2           0.01180    9     0.534    -4.617       0.0345             127.994   \n",
       "3           0.00253    2     0.157    -4.498       0.2390             128.014   \n",
       "4           0.90900    7     0.157    -6.266       0.0413             145.036   \n",
       "\n",
       "   valence music_genre  mode_Major  \n",
       "0    0.759  Electronic           0  \n",
       "1    0.531  Electronic           0  \n",
       "2    0.333  Electronic           1  \n",
       "3    0.270  Electronic           1  \n",
       "4    0.323  Electronic           1  "
      ]
     },
     "execution_count": 37,
     "metadata": {},
     "output_type": "execute_result"
    }
   ],
   "source": [
    "# one hot encoding / binary encoding for the mode variable\n",
    "data = pd.get_dummies(data, columns=['mode'])\n",
    "data.drop(columns=[\"mode_Minor\"], inplace=True) # drop one column --> redundant\n",
    "data.head()"
   ]
  },
  {
   "cell_type": "code",
   "execution_count": 38,
   "id": "b50184a5-8085-42b1-ac46-22f95aeafec6",
   "metadata": {},
   "outputs": [
    {
     "data": {
      "text/plain": [
       "0.0332    173\n",
       "0.0337    155\n",
       "0.0315    153\n",
       "0.0329    152\n",
       "0.0362    148\n",
       "         ... \n",
       "0.6150      1\n",
       "0.5960      1\n",
       "0.5910      1\n",
       "0.6370      1\n",
       "0.8200      1\n",
       "Name: speechiness, Length: 1337, dtype: int64"
      ]
     },
     "execution_count": 38,
     "metadata": {},
     "output_type": "execute_result"
    }
   ],
   "source": [
    "data.speechiness.value_counts()"
   ]
  },
  {
   "cell_type": "code",
   "execution_count": 39,
   "id": "02b8a48d-3e6f-455a-904f-42bcde7480b3",
   "metadata": {},
   "outputs": [
    {
     "data": {
      "text/plain": [
       "?                     4980\n",
       "140.007                 17\n",
       "120.0                   17\n",
       "100.00299999999999      16\n",
       "100.014                 15\n",
       "                      ... \n",
       "68.471                   1\n",
       "81.446                   1\n",
       "109.101                  1\n",
       "140.371                  1\n",
       "67.408                   1\n",
       "Name: tempo, Length: 29394, dtype: int64"
      ]
     },
     "execution_count": 39,
     "metadata": {},
     "output_type": "execute_result"
    }
   ],
   "source": [
    "data.tempo.value_counts() # there are null values in the form of \"?\""
   ]
  },
  {
   "cell_type": "code",
   "execution_count": 40,
   "id": "52b817e6-0d2d-495a-9fcd-3f07c799a236",
   "metadata": {},
   "outputs": [
    {
     "data": {
      "text/plain": [
       "0.3380    100\n",
       "0.3240     95\n",
       "0.3320     93\n",
       "0.3510     91\n",
       "0.3700     87\n",
       "         ... \n",
       "0.0193      1\n",
       "0.0468      1\n",
       "0.0279      1\n",
       "0.0266      1\n",
       "0.0205      1\n",
       "Name: valence, Length: 1615, dtype: int64"
      ]
     },
     "execution_count": 40,
     "metadata": {},
     "output_type": "execute_result"
    }
   ],
   "source": [
    "data.valence.value_counts()"
   ]
  },
  {
   "cell_type": "code",
   "execution_count": 41,
   "id": "e0a99d4b-e3ff-4322-89e1-f476b54088ed",
   "metadata": {},
   "outputs": [
    {
     "data": {
      "text/plain": [
       "Rap            5000\n",
       "Jazz           5000\n",
       "Classical      5000\n",
       "Electronic     5000\n",
       "Anime          5000\n",
       "Country        5000\n",
       "Rock           5000\n",
       "Blues          5000\n",
       "Hip-Hop        5000\n",
       "Alternative    5000\n",
       "Name: music_genre, dtype: int64"
      ]
     },
     "execution_count": 41,
     "metadata": {},
     "output_type": "execute_result"
    }
   ],
   "source": [
    "# looking at the music_genre variable\n",
    "data.music_genre.value_counts()"
   ]
  },
  {
   "cell_type": "code",
   "execution_count": 42,
   "id": "e046f2c3-8af3-423d-a7c5-6f2e13515fdf",
   "metadata": {},
   "outputs": [
    {
     "data": {
      "text/plain": [
       "1     5000\n",
       "2     5000\n",
       "3     5000\n",
       "4     5000\n",
       "5     5000\n",
       "6     5000\n",
       "7     5000\n",
       "8     5000\n",
       "9     5000\n",
       "10    5000\n",
       "Name: music_genre, dtype: int64"
      ]
     },
     "execution_count": 42,
     "metadata": {},
     "output_type": "execute_result"
    }
   ],
   "source": [
    "# transforming the music genre variable into numerical data\n",
    "genre_to_num = {'Rap': 1, 'Electronic': 2, 'Hip-Hop': 3, 'Alternative': 4, 'Rock': 5, 'Blues': 6, 'Anime': 7, 'Country': 8, 'Jazz': 9, 'Classical': 10}\n",
    "data['music_genre'] = data['music_genre'].replace(genre_to_num)\n",
    "\n",
    "data['music_genre'].value_counts()"
   ]
  },
  {
   "cell_type": "code",
   "execution_count": 43,
   "id": "67b6b6b1-1583-4705-9a6e-a93a999647ab",
   "metadata": {},
   "outputs": [
    {
     "data": {
      "text/html": [
       "<div>\n",
       "<style scoped>\n",
       "    .dataframe tbody tr th:only-of-type {\n",
       "        vertical-align: middle;\n",
       "    }\n",
       "\n",
       "    .dataframe tbody tr th {\n",
       "        vertical-align: top;\n",
       "    }\n",
       "\n",
       "    .dataframe thead th {\n",
       "        text-align: right;\n",
       "    }\n",
       "</style>\n",
       "<table border=\"1\" class=\"dataframe\">\n",
       "  <thead>\n",
       "    <tr style=\"text-align: right;\">\n",
       "      <th></th>\n",
       "      <th>popularity</th>\n",
       "      <th>acousticness</th>\n",
       "      <th>danceability</th>\n",
       "      <th>duration_ms</th>\n",
       "      <th>energy</th>\n",
       "      <th>instrumentalness</th>\n",
       "      <th>key</th>\n",
       "      <th>liveness</th>\n",
       "      <th>loudness</th>\n",
       "      <th>speechiness</th>\n",
       "      <th>tempo</th>\n",
       "      <th>valence</th>\n",
       "      <th>music_genre</th>\n",
       "      <th>mode_Major</th>\n",
       "    </tr>\n",
       "  </thead>\n",
       "  <tbody>\n",
       "    <tr>\n",
       "      <th>0</th>\n",
       "      <td>27.0</td>\n",
       "      <td>0.00468</td>\n",
       "      <td>0.652</td>\n",
       "      <td>270703.43126</td>\n",
       "      <td>0.941</td>\n",
       "      <td>0.79200</td>\n",
       "      <td>11</td>\n",
       "      <td>0.115</td>\n",
       "      <td>-5.201</td>\n",
       "      <td>0.0748</td>\n",
       "      <td>100.889</td>\n",
       "      <td>0.759</td>\n",
       "      <td>2</td>\n",
       "      <td>0</td>\n",
       "    </tr>\n",
       "    <tr>\n",
       "      <th>1</th>\n",
       "      <td>31.0</td>\n",
       "      <td>0.01270</td>\n",
       "      <td>0.622</td>\n",
       "      <td>218293.00000</td>\n",
       "      <td>0.890</td>\n",
       "      <td>0.95000</td>\n",
       "      <td>3</td>\n",
       "      <td>0.124</td>\n",
       "      <td>-7.043</td>\n",
       "      <td>0.0300</td>\n",
       "      <td>115.00200000000001</td>\n",
       "      <td>0.531</td>\n",
       "      <td>2</td>\n",
       "      <td>0</td>\n",
       "    </tr>\n",
       "    <tr>\n",
       "      <th>2</th>\n",
       "      <td>28.0</td>\n",
       "      <td>0.00306</td>\n",
       "      <td>0.620</td>\n",
       "      <td>215613.00000</td>\n",
       "      <td>0.755</td>\n",
       "      <td>0.01180</td>\n",
       "      <td>9</td>\n",
       "      <td>0.534</td>\n",
       "      <td>-4.617</td>\n",
       "      <td>0.0345</td>\n",
       "      <td>127.994</td>\n",
       "      <td>0.333</td>\n",
       "      <td>2</td>\n",
       "      <td>1</td>\n",
       "    </tr>\n",
       "    <tr>\n",
       "      <th>3</th>\n",
       "      <td>34.0</td>\n",
       "      <td>0.02540</td>\n",
       "      <td>0.774</td>\n",
       "      <td>166875.00000</td>\n",
       "      <td>0.700</td>\n",
       "      <td>0.00253</td>\n",
       "      <td>2</td>\n",
       "      <td>0.157</td>\n",
       "      <td>-4.498</td>\n",
       "      <td>0.2390</td>\n",
       "      <td>128.014</td>\n",
       "      <td>0.270</td>\n",
       "      <td>2</td>\n",
       "      <td>1</td>\n",
       "    </tr>\n",
       "    <tr>\n",
       "      <th>4</th>\n",
       "      <td>32.0</td>\n",
       "      <td>0.00465</td>\n",
       "      <td>0.638</td>\n",
       "      <td>222369.00000</td>\n",
       "      <td>0.587</td>\n",
       "      <td>0.90900</td>\n",
       "      <td>7</td>\n",
       "      <td>0.157</td>\n",
       "      <td>-6.266</td>\n",
       "      <td>0.0413</td>\n",
       "      <td>145.036</td>\n",
       "      <td>0.323</td>\n",
       "      <td>2</td>\n",
       "      <td>1</td>\n",
       "    </tr>\n",
       "  </tbody>\n",
       "</table>\n",
       "</div>"
      ],
      "text/plain": [
       "   popularity  acousticness  danceability   duration_ms  energy  \\\n",
       "0        27.0       0.00468         0.652  270703.43126   0.941   \n",
       "1        31.0       0.01270         0.622  218293.00000   0.890   \n",
       "2        28.0       0.00306         0.620  215613.00000   0.755   \n",
       "3        34.0       0.02540         0.774  166875.00000   0.700   \n",
       "4        32.0       0.00465         0.638  222369.00000   0.587   \n",
       "\n",
       "   instrumentalness  key  liveness  loudness  speechiness               tempo  \\\n",
       "0           0.79200   11     0.115    -5.201       0.0748             100.889   \n",
       "1           0.95000    3     0.124    -7.043       0.0300  115.00200000000001   \n",
       "2           0.01180    9     0.534    -4.617       0.0345             127.994   \n",
       "3           0.00253    2     0.157    -4.498       0.2390             128.014   \n",
       "4           0.90900    7     0.157    -6.266       0.0413             145.036   \n",
       "\n",
       "   valence  music_genre  mode_Major  \n",
       "0    0.759            2           0  \n",
       "1    0.531            2           0  \n",
       "2    0.333            2           1  \n",
       "3    0.270            2           1  \n",
       "4    0.323            2           1  "
      ]
     },
     "execution_count": 43,
     "metadata": {},
     "output_type": "execute_result"
    }
   ],
   "source": [
    "data.head()"
   ]
  },
  {
   "cell_type": "code",
   "execution_count": 44,
   "id": "8ca81dc2-e05d-4419-b126-ab11df78ee59",
   "metadata": {},
   "outputs": [
    {
     "data": {
      "text/plain": [
       "?                     4980\n",
       "140.007                 17\n",
       "120.0                   17\n",
       "100.00299999999999      16\n",
       "100.014                 15\n",
       "                      ... \n",
       "68.471                   1\n",
       "81.446                   1\n",
       "109.101                  1\n",
       "140.371                  1\n",
       "67.408                   1\n",
       "Name: tempo, Length: 29394, dtype: int64"
      ]
     },
     "execution_count": 44,
     "metadata": {},
     "output_type": "execute_result"
    }
   ],
   "source": [
    "# discovering hidden missing values\n",
    "data.tempo.value_counts()"
   ]
  },
  {
   "cell_type": "code",
   "execution_count": 45,
   "id": "ed849780-653c-4f3f-a961-e90bfea0dd12",
   "metadata": {},
   "outputs": [],
   "source": [
    "data['tempo'] = data['tempo'].apply(pd.to_numeric, errors='coerce')"
   ]
  },
  {
   "cell_type": "code",
   "execution_count": 46,
   "id": "fc11a3f8-14c2-4df5-8112-383f07e00bff",
   "metadata": {},
   "outputs": [
    {
     "data": {
      "text/plain": [
       "120.000    17\n",
       "140.007    17\n",
       "100.003    16\n",
       "130.016    15\n",
       "100.002    15\n",
       "           ..\n",
       "174.976     1\n",
       "109.416     1\n",
       "111.031     1\n",
       "104.067     1\n",
       "105.925     1\n",
       "Name: tempo, Length: 29393, dtype: int64"
      ]
     },
     "execution_count": 46,
     "metadata": {},
     "output_type": "execute_result"
    }
   ],
   "source": [
    "data.tempo.value_counts()"
   ]
  },
  {
   "cell_type": "code",
   "execution_count": 47,
   "id": "34743776-333a-43b6-b15f-dc7dbb0830d0",
   "metadata": {},
   "outputs": [
    {
     "data": {
      "text/plain": [
       "popularity             0\n",
       "acousticness           0\n",
       "danceability           0\n",
       "duration_ms            0\n",
       "energy                 0\n",
       "instrumentalness       0\n",
       "key                    0\n",
       "liveness               0\n",
       "loudness               0\n",
       "speechiness            0\n",
       "tempo               4980\n",
       "valence                0\n",
       "music_genre            0\n",
       "mode_Major             0\n",
       "dtype: int64"
      ]
     },
     "execution_count": 47,
     "metadata": {},
     "output_type": "execute_result"
    }
   ],
   "source": [
    "data.isna().sum()"
   ]
  },
  {
   "cell_type": "code",
   "execution_count": 48,
   "id": "c6668008-1597-410c-bb80-377568e89713",
   "metadata": {},
   "outputs": [
    {
     "data": {
      "text/plain": [
       "popularity          float64\n",
       "acousticness        float64\n",
       "danceability        float64\n",
       "duration_ms         float64\n",
       "energy              float64\n",
       "instrumentalness    float64\n",
       "key                   int64\n",
       "liveness            float64\n",
       "loudness            float64\n",
       "speechiness         float64\n",
       "tempo               float64\n",
       "valence             float64\n",
       "music_genre           int64\n",
       "mode_Major            uint8\n",
       "dtype: object"
      ]
     },
     "execution_count": 48,
     "metadata": {},
     "output_type": "execute_result"
    }
   ],
   "source": [
    "data.dtypes"
   ]
  },
  {
   "cell_type": "code",
   "execution_count": 49,
   "id": "16bf1c07-f955-479a-ba34-2ad914065a18",
   "metadata": {},
   "outputs": [
    {
     "data": {
      "text/plain": [
       "popularity             0\n",
       "acousticness           0\n",
       "danceability           0\n",
       "duration_ms            0\n",
       "energy                 0\n",
       "instrumentalness       0\n",
       "key                    0\n",
       "liveness               0\n",
       "loudness               0\n",
       "speechiness            0\n",
       "tempo               4980\n",
       "valence                0\n",
       "music_genre            0\n",
       "mode_Major             0\n",
       "dtype: int64"
      ]
     },
     "execution_count": 49,
     "metadata": {},
     "output_type": "execute_result"
    }
   ],
   "source": [
    "data.isna().sum()"
   ]
  },
  {
   "cell_type": "code",
   "execution_count": 50,
   "id": "a44b4eb2-862b-48f0-bb8d-21033865bc92",
   "metadata": {},
   "outputs": [
    {
     "name": "stdout",
     "output_type": "stream",
     "text": [
      "Missing: 4980\n",
      "Missing: 0\n"
     ]
    }
   ],
   "source": [
    "# imputing missing values for variable tempo\n",
    "# KNN imputation to maintain structure and correlations in data\n",
    "data_temp = data.values\n",
    "ix = [i for i in range(data_temp.shape[1]) if i != 12]\n",
    "X, y = data_temp[:, ix], data_temp[:, 12]\n",
    "print('Missing: %d' % sum(np.isnan(X).flatten()))\n",
    "imputer = KNNImputer(n_neighbors=10)\n",
    "imputer.fit(X)\n",
    "Xtrans = imputer.transform(X)\n",
    "print('Missing: %d' % sum(np.isnan(Xtrans).flatten()))"
   ]
  },
  {
   "cell_type": "code",
   "execution_count": 51,
   "id": "5ce818b9-ca8b-4b3b-a8c2-6217c2b467d2",
   "metadata": {},
   "outputs": [
    {
     "data": {
      "text/html": [
       "<div>\n",
       "<style scoped>\n",
       "    .dataframe tbody tr th:only-of-type {\n",
       "        vertical-align: middle;\n",
       "    }\n",
       "\n",
       "    .dataframe tbody tr th {\n",
       "        vertical-align: top;\n",
       "    }\n",
       "\n",
       "    .dataframe thead th {\n",
       "        text-align: right;\n",
       "    }\n",
       "</style>\n",
       "<table border=\"1\" class=\"dataframe\">\n",
       "  <thead>\n",
       "    <tr style=\"text-align: right;\">\n",
       "      <th></th>\n",
       "      <th>0</th>\n",
       "      <th>1</th>\n",
       "      <th>2</th>\n",
       "      <th>3</th>\n",
       "      <th>4</th>\n",
       "      <th>5</th>\n",
       "      <th>6</th>\n",
       "      <th>7</th>\n",
       "      <th>8</th>\n",
       "      <th>9</th>\n",
       "      <th>10</th>\n",
       "      <th>11</th>\n",
       "      <th>12</th>\n",
       "    </tr>\n",
       "  </thead>\n",
       "  <tbody>\n",
       "    <tr>\n",
       "      <th>0</th>\n",
       "      <td>27.0</td>\n",
       "      <td>0.00468</td>\n",
       "      <td>0.652</td>\n",
       "      <td>270703.43126</td>\n",
       "      <td>0.941</td>\n",
       "      <td>0.79200</td>\n",
       "      <td>11.0</td>\n",
       "      <td>0.115</td>\n",
       "      <td>-5.201</td>\n",
       "      <td>0.0748</td>\n",
       "      <td>100.889</td>\n",
       "      <td>0.759</td>\n",
       "      <td>0.0</td>\n",
       "    </tr>\n",
       "    <tr>\n",
       "      <th>1</th>\n",
       "      <td>31.0</td>\n",
       "      <td>0.01270</td>\n",
       "      <td>0.622</td>\n",
       "      <td>218293.00000</td>\n",
       "      <td>0.890</td>\n",
       "      <td>0.95000</td>\n",
       "      <td>3.0</td>\n",
       "      <td>0.124</td>\n",
       "      <td>-7.043</td>\n",
       "      <td>0.0300</td>\n",
       "      <td>115.002</td>\n",
       "      <td>0.531</td>\n",
       "      <td>0.0</td>\n",
       "    </tr>\n",
       "    <tr>\n",
       "      <th>2</th>\n",
       "      <td>28.0</td>\n",
       "      <td>0.00306</td>\n",
       "      <td>0.620</td>\n",
       "      <td>215613.00000</td>\n",
       "      <td>0.755</td>\n",
       "      <td>0.01180</td>\n",
       "      <td>9.0</td>\n",
       "      <td>0.534</td>\n",
       "      <td>-4.617</td>\n",
       "      <td>0.0345</td>\n",
       "      <td>127.994</td>\n",
       "      <td>0.333</td>\n",
       "      <td>1.0</td>\n",
       "    </tr>\n",
       "    <tr>\n",
       "      <th>3</th>\n",
       "      <td>34.0</td>\n",
       "      <td>0.02540</td>\n",
       "      <td>0.774</td>\n",
       "      <td>166875.00000</td>\n",
       "      <td>0.700</td>\n",
       "      <td>0.00253</td>\n",
       "      <td>2.0</td>\n",
       "      <td>0.157</td>\n",
       "      <td>-4.498</td>\n",
       "      <td>0.2390</td>\n",
       "      <td>128.014</td>\n",
       "      <td>0.270</td>\n",
       "      <td>1.0</td>\n",
       "    </tr>\n",
       "    <tr>\n",
       "      <th>4</th>\n",
       "      <td>32.0</td>\n",
       "      <td>0.00465</td>\n",
       "      <td>0.638</td>\n",
       "      <td>222369.00000</td>\n",
       "      <td>0.587</td>\n",
       "      <td>0.90900</td>\n",
       "      <td>7.0</td>\n",
       "      <td>0.157</td>\n",
       "      <td>-6.266</td>\n",
       "      <td>0.0413</td>\n",
       "      <td>145.036</td>\n",
       "      <td>0.323</td>\n",
       "      <td>1.0</td>\n",
       "    </tr>\n",
       "  </tbody>\n",
       "</table>\n",
       "</div>"
      ],
      "text/plain": [
       "     0        1      2             3      4        5     6      7      8   \\\n",
       "0  27.0  0.00468  0.652  270703.43126  0.941  0.79200  11.0  0.115 -5.201   \n",
       "1  31.0  0.01270  0.622  218293.00000  0.890  0.95000   3.0  0.124 -7.043   \n",
       "2  28.0  0.00306  0.620  215613.00000  0.755  0.01180   9.0  0.534 -4.617   \n",
       "3  34.0  0.02540  0.774  166875.00000  0.700  0.00253   2.0  0.157 -4.498   \n",
       "4  32.0  0.00465  0.638  222369.00000  0.587  0.90900   7.0  0.157 -6.266   \n",
       "\n",
       "       9        10     11   12  \n",
       "0  0.0748  100.889  0.759  0.0  \n",
       "1  0.0300  115.002  0.531  0.0  \n",
       "2  0.0345  127.994  0.333  1.0  \n",
       "3  0.2390  128.014  0.270  1.0  \n",
       "4  0.0413  145.036  0.323  1.0  "
      ]
     },
     "execution_count": 51,
     "metadata": {},
     "output_type": "execute_result"
    }
   ],
   "source": [
    "data_trans = pd.DataFrame(Xtrans)\n",
    "data_trans.head()"
   ]
  },
  {
   "cell_type": "code",
   "execution_count": 52,
   "id": "91ab5e9f-f03f-4e5e-ab24-465807b7a739",
   "metadata": {},
   "outputs": [
    {
     "data": {
      "text/html": [
       "<div>\n",
       "<style scoped>\n",
       "    .dataframe tbody tr th:only-of-type {\n",
       "        vertical-align: middle;\n",
       "    }\n",
       "\n",
       "    .dataframe tbody tr th {\n",
       "        vertical-align: top;\n",
       "    }\n",
       "\n",
       "    .dataframe thead th {\n",
       "        text-align: right;\n",
       "    }\n",
       "</style>\n",
       "<table border=\"1\" class=\"dataframe\">\n",
       "  <thead>\n",
       "    <tr style=\"text-align: right;\">\n",
       "      <th></th>\n",
       "      <th>popularity</th>\n",
       "      <th>acousticness</th>\n",
       "      <th>danceability</th>\n",
       "      <th>duration_ms</th>\n",
       "      <th>energy</th>\n",
       "      <th>instrumentalness</th>\n",
       "      <th>key</th>\n",
       "      <th>liveness</th>\n",
       "      <th>loudness</th>\n",
       "      <th>speechiness</th>\n",
       "      <th>tempo</th>\n",
       "      <th>valence</th>\n",
       "      <th>music_genre</th>\n",
       "      <th>mode_Major</th>\n",
       "    </tr>\n",
       "  </thead>\n",
       "  <tbody>\n",
       "    <tr>\n",
       "      <th>0</th>\n",
       "      <td>27.0</td>\n",
       "      <td>0.00468</td>\n",
       "      <td>0.652</td>\n",
       "      <td>270703.43126</td>\n",
       "      <td>0.941</td>\n",
       "      <td>0.79200</td>\n",
       "      <td>11</td>\n",
       "      <td>0.115</td>\n",
       "      <td>-5.201</td>\n",
       "      <td>0.0748</td>\n",
       "      <td>100.889</td>\n",
       "      <td>0.759</td>\n",
       "      <td>2</td>\n",
       "      <td>0</td>\n",
       "    </tr>\n",
       "    <tr>\n",
       "      <th>1</th>\n",
       "      <td>31.0</td>\n",
       "      <td>0.01270</td>\n",
       "      <td>0.622</td>\n",
       "      <td>218293.00000</td>\n",
       "      <td>0.890</td>\n",
       "      <td>0.95000</td>\n",
       "      <td>3</td>\n",
       "      <td>0.124</td>\n",
       "      <td>-7.043</td>\n",
       "      <td>0.0300</td>\n",
       "      <td>115.002</td>\n",
       "      <td>0.531</td>\n",
       "      <td>2</td>\n",
       "      <td>0</td>\n",
       "    </tr>\n",
       "    <tr>\n",
       "      <th>2</th>\n",
       "      <td>28.0</td>\n",
       "      <td>0.00306</td>\n",
       "      <td>0.620</td>\n",
       "      <td>215613.00000</td>\n",
       "      <td>0.755</td>\n",
       "      <td>0.01180</td>\n",
       "      <td>9</td>\n",
       "      <td>0.534</td>\n",
       "      <td>-4.617</td>\n",
       "      <td>0.0345</td>\n",
       "      <td>127.994</td>\n",
       "      <td>0.333</td>\n",
       "      <td>2</td>\n",
       "      <td>1</td>\n",
       "    </tr>\n",
       "    <tr>\n",
       "      <th>3</th>\n",
       "      <td>34.0</td>\n",
       "      <td>0.02540</td>\n",
       "      <td>0.774</td>\n",
       "      <td>166875.00000</td>\n",
       "      <td>0.700</td>\n",
       "      <td>0.00253</td>\n",
       "      <td>2</td>\n",
       "      <td>0.157</td>\n",
       "      <td>-4.498</td>\n",
       "      <td>0.2390</td>\n",
       "      <td>128.014</td>\n",
       "      <td>0.270</td>\n",
       "      <td>2</td>\n",
       "      <td>1</td>\n",
       "    </tr>\n",
       "    <tr>\n",
       "      <th>4</th>\n",
       "      <td>32.0</td>\n",
       "      <td>0.00465</td>\n",
       "      <td>0.638</td>\n",
       "      <td>222369.00000</td>\n",
       "      <td>0.587</td>\n",
       "      <td>0.90900</td>\n",
       "      <td>7</td>\n",
       "      <td>0.157</td>\n",
       "      <td>-6.266</td>\n",
       "      <td>0.0413</td>\n",
       "      <td>145.036</td>\n",
       "      <td>0.323</td>\n",
       "      <td>2</td>\n",
       "      <td>1</td>\n",
       "    </tr>\n",
       "  </tbody>\n",
       "</table>\n",
       "</div>"
      ],
      "text/plain": [
       "   popularity  acousticness  danceability   duration_ms  energy  \\\n",
       "0        27.0       0.00468         0.652  270703.43126   0.941   \n",
       "1        31.0       0.01270         0.622  218293.00000   0.890   \n",
       "2        28.0       0.00306         0.620  215613.00000   0.755   \n",
       "3        34.0       0.02540         0.774  166875.00000   0.700   \n",
       "4        32.0       0.00465         0.638  222369.00000   0.587   \n",
       "\n",
       "   instrumentalness  key  liveness  loudness  speechiness    tempo  valence  \\\n",
       "0           0.79200   11     0.115    -5.201       0.0748  100.889    0.759   \n",
       "1           0.95000    3     0.124    -7.043       0.0300  115.002    0.531   \n",
       "2           0.01180    9     0.534    -4.617       0.0345  127.994    0.333   \n",
       "3           0.00253    2     0.157    -4.498       0.2390  128.014    0.270   \n",
       "4           0.90900    7     0.157    -6.266       0.0413  145.036    0.323   \n",
       "\n",
       "   music_genre  mode_Major  \n",
       "0            2           0  \n",
       "1            2           0  \n",
       "2            2           1  \n",
       "3            2           1  \n",
       "4            2           1  "
      ]
     },
     "execution_count": 52,
     "metadata": {},
     "output_type": "execute_result"
    }
   ],
   "source": [
    "data.head()"
   ]
  },
  {
   "cell_type": "code",
   "execution_count": 53,
   "id": "794d2593-b71d-4585-b30c-56817ba034d9",
   "metadata": {},
   "outputs": [],
   "source": [
    "# restructuring the dataframe\n",
    "col_names = data.columns.drop(labels=['music_genre'])\n",
    "data_trans.columns = col_names\n",
    "data_trans['music_genre'] = y"
   ]
  },
  {
   "cell_type": "code",
   "execution_count": 54,
   "id": "13e65471-6efd-42fb-bbc0-6c0402c6be93",
   "metadata": {},
   "outputs": [
    {
     "data": {
      "text/html": [
       "<div>\n",
       "<style scoped>\n",
       "    .dataframe tbody tr th:only-of-type {\n",
       "        vertical-align: middle;\n",
       "    }\n",
       "\n",
       "    .dataframe tbody tr th {\n",
       "        vertical-align: top;\n",
       "    }\n",
       "\n",
       "    .dataframe thead th {\n",
       "        text-align: right;\n",
       "    }\n",
       "</style>\n",
       "<table border=\"1\" class=\"dataframe\">\n",
       "  <thead>\n",
       "    <tr style=\"text-align: right;\">\n",
       "      <th></th>\n",
       "      <th>popularity</th>\n",
       "      <th>acousticness</th>\n",
       "      <th>danceability</th>\n",
       "      <th>duration_ms</th>\n",
       "      <th>energy</th>\n",
       "      <th>instrumentalness</th>\n",
       "      <th>key</th>\n",
       "      <th>liveness</th>\n",
       "      <th>loudness</th>\n",
       "      <th>speechiness</th>\n",
       "      <th>tempo</th>\n",
       "      <th>valence</th>\n",
       "      <th>mode_Major</th>\n",
       "      <th>music_genre</th>\n",
       "    </tr>\n",
       "  </thead>\n",
       "  <tbody>\n",
       "    <tr>\n",
       "      <th>0</th>\n",
       "      <td>27.0</td>\n",
       "      <td>0.00468</td>\n",
       "      <td>0.652</td>\n",
       "      <td>270703.43126</td>\n",
       "      <td>0.941</td>\n",
       "      <td>0.79200</td>\n",
       "      <td>11.0</td>\n",
       "      <td>0.115</td>\n",
       "      <td>-5.201</td>\n",
       "      <td>0.0748</td>\n",
       "      <td>100.889</td>\n",
       "      <td>0.759</td>\n",
       "      <td>0.0</td>\n",
       "      <td>2.0</td>\n",
       "    </tr>\n",
       "    <tr>\n",
       "      <th>1</th>\n",
       "      <td>31.0</td>\n",
       "      <td>0.01270</td>\n",
       "      <td>0.622</td>\n",
       "      <td>218293.00000</td>\n",
       "      <td>0.890</td>\n",
       "      <td>0.95000</td>\n",
       "      <td>3.0</td>\n",
       "      <td>0.124</td>\n",
       "      <td>-7.043</td>\n",
       "      <td>0.0300</td>\n",
       "      <td>115.002</td>\n",
       "      <td>0.531</td>\n",
       "      <td>0.0</td>\n",
       "      <td>2.0</td>\n",
       "    </tr>\n",
       "    <tr>\n",
       "      <th>2</th>\n",
       "      <td>28.0</td>\n",
       "      <td>0.00306</td>\n",
       "      <td>0.620</td>\n",
       "      <td>215613.00000</td>\n",
       "      <td>0.755</td>\n",
       "      <td>0.01180</td>\n",
       "      <td>9.0</td>\n",
       "      <td>0.534</td>\n",
       "      <td>-4.617</td>\n",
       "      <td>0.0345</td>\n",
       "      <td>127.994</td>\n",
       "      <td>0.333</td>\n",
       "      <td>1.0</td>\n",
       "      <td>2.0</td>\n",
       "    </tr>\n",
       "    <tr>\n",
       "      <th>3</th>\n",
       "      <td>34.0</td>\n",
       "      <td>0.02540</td>\n",
       "      <td>0.774</td>\n",
       "      <td>166875.00000</td>\n",
       "      <td>0.700</td>\n",
       "      <td>0.00253</td>\n",
       "      <td>2.0</td>\n",
       "      <td>0.157</td>\n",
       "      <td>-4.498</td>\n",
       "      <td>0.2390</td>\n",
       "      <td>128.014</td>\n",
       "      <td>0.270</td>\n",
       "      <td>1.0</td>\n",
       "      <td>2.0</td>\n",
       "    </tr>\n",
       "    <tr>\n",
       "      <th>4</th>\n",
       "      <td>32.0</td>\n",
       "      <td>0.00465</td>\n",
       "      <td>0.638</td>\n",
       "      <td>222369.00000</td>\n",
       "      <td>0.587</td>\n",
       "      <td>0.90900</td>\n",
       "      <td>7.0</td>\n",
       "      <td>0.157</td>\n",
       "      <td>-6.266</td>\n",
       "      <td>0.0413</td>\n",
       "      <td>145.036</td>\n",
       "      <td>0.323</td>\n",
       "      <td>1.0</td>\n",
       "      <td>2.0</td>\n",
       "    </tr>\n",
       "  </tbody>\n",
       "</table>\n",
       "</div>"
      ],
      "text/plain": [
       "   popularity  acousticness  danceability   duration_ms  energy  \\\n",
       "0        27.0       0.00468         0.652  270703.43126   0.941   \n",
       "1        31.0       0.01270         0.622  218293.00000   0.890   \n",
       "2        28.0       0.00306         0.620  215613.00000   0.755   \n",
       "3        34.0       0.02540         0.774  166875.00000   0.700   \n",
       "4        32.0       0.00465         0.638  222369.00000   0.587   \n",
       "\n",
       "   instrumentalness   key  liveness  loudness  speechiness    tempo  valence  \\\n",
       "0           0.79200  11.0     0.115    -5.201       0.0748  100.889    0.759   \n",
       "1           0.95000   3.0     0.124    -7.043       0.0300  115.002    0.531   \n",
       "2           0.01180   9.0     0.534    -4.617       0.0345  127.994    0.333   \n",
       "3           0.00253   2.0     0.157    -4.498       0.2390  128.014    0.270   \n",
       "4           0.90900   7.0     0.157    -6.266       0.0413  145.036    0.323   \n",
       "\n",
       "   mode_Major  music_genre  \n",
       "0         0.0          2.0  \n",
       "1         0.0          2.0  \n",
       "2         1.0          2.0  \n",
       "3         1.0          2.0  \n",
       "4         1.0          2.0  "
      ]
     },
     "execution_count": 54,
     "metadata": {},
     "output_type": "execute_result"
    }
   ],
   "source": [
    "data_trans.head()"
   ]
  },
  {
   "cell_type": "code",
   "execution_count": null,
   "id": "7b0797a6-bf2d-40cb-9e79-a686f51b8c46",
   "metadata": {},
   "outputs": [],
   "source": []
  },
  {
   "cell_type": "markdown",
   "id": "15dfbaa6-a89a-4cf6-968c-3a6ca5629f4b",
   "metadata": {},
   "source": [
    "#### Data Visualization"
   ]
  },
  {
   "cell_type": "code",
   "execution_count": 55,
   "id": "aeb2eee8-ffb9-4868-bb19-e64c36f91c82",
   "metadata": {},
   "outputs": [
    {
     "data": {
      "image/png": "[encoded data removed]",
      "text/plain": [
       "<Figure size 720x1440 with 14 Axes>"
      ]
     },
     "metadata": {
      "needs_background": "light"
     },
     "output_type": "display_data"
    }
   ],
   "source": [
    "# plotting all variables as histograms\n",
    "num_cols = len(data_trans.columns)\n",
    "rows = int(num_cols / 2) + (num_cols % 2)\n",
    "cols = 2\n",
    "\n",
    "fig, axs = plt.subplots(rows, cols, figsize=(10, 20))\n",
    "axs = axs.ravel()\n",
    "\n",
    "# Loop through each column of the DataFrame and plot it as a subplot\n",
    "for i, col in enumerate(data_trans.columns):\n",
    "    axs[i].hist(data_trans[col])\n",
    "    axs[i].set_title(col)\n",
    "\n",
    "# Show the plot\n",
    "plt.tight_layout()\n",
    "plt.show()"
   ]
  },
  {
   "cell_type": "code",
   "execution_count": 56,
   "id": "178efde6-9c89-466c-9a6a-92aef67652d9",
   "metadata": {},
   "outputs": [
    {
     "data": {
      "image/png": "[encoded data removed]",
      "text/plain": [
       "<Figure size 864x576 with 2 Axes>"
      ]
     },
     "metadata": {
      "needs_background": "light"
     },
     "output_type": "display_data"
    }
   ],
   "source": [
    "# heatmap for variables in the dataset to see correlations\n",
    "plt.figure(figsize=(12,8))\n",
    "g=sns.heatmap(data_trans.corr(), annot=True)"
   ]
  },
  {
   "cell_type": "code",
   "execution_count": null,
   "id": "b938ff7c-94e5-4b9f-af07-8eeb145bd7f3",
   "metadata": {},
   "outputs": [],
   "source": []
  },
  {
   "cell_type": "markdown",
   "id": "6ac4f798-77d0-4a36-b14b-5a3a7b76830c",
   "metadata": {},
   "source": [
    "#### Scaling data"
   ]
  },
  {
   "cell_type": "code",
   "execution_count": 57,
   "id": "8956f269-d2e3-4fde-89aa-86706fb77d0f",
   "metadata": {},
   "outputs": [
    {
     "data": {
      "text/html": [
       "<div>\n",
       "<style scoped>\n",
       "    .dataframe tbody tr th:only-of-type {\n",
       "        vertical-align: middle;\n",
       "    }\n",
       "\n",
       "    .dataframe tbody tr th {\n",
       "        vertical-align: top;\n",
       "    }\n",
       "\n",
       "    .dataframe thead th {\n",
       "        text-align: right;\n",
       "    }\n",
       "</style>\n",
       "<table border=\"1\" class=\"dataframe\">\n",
       "  <thead>\n",
       "    <tr style=\"text-align: right;\">\n",
       "      <th></th>\n",
       "      <th>instance_id</th>\n",
       "      <th>artist_name</th>\n",
       "      <th>track_name</th>\n",
       "      <th>popularity</th>\n",
       "      <th>acousticness</th>\n",
       "      <th>danceability</th>\n",
       "      <th>duration_ms</th>\n",
       "      <th>energy</th>\n",
       "      <th>instrumentalness</th>\n",
       "      <th>key</th>\n",
       "      <th>liveness</th>\n",
       "      <th>loudness</th>\n",
       "      <th>mode</th>\n",
       "      <th>speechiness</th>\n",
       "      <th>tempo</th>\n",
       "      <th>obtained_date</th>\n",
       "      <th>valence</th>\n",
       "      <th>music_genre</th>\n",
       "    </tr>\n",
       "  </thead>\n",
       "  <tbody>\n",
       "    <tr>\n",
       "      <th>0</th>\n",
       "      <td>32894.0</td>\n",
       "      <td>Röyksopp</td>\n",
       "      <td>Röyksopp's Night Out</td>\n",
       "      <td>27.0</td>\n",
       "      <td>0.00468</td>\n",
       "      <td>0.652</td>\n",
       "      <td>-1.0</td>\n",
       "      <td>0.941</td>\n",
       "      <td>0.79200</td>\n",
       "      <td>A#</td>\n",
       "      <td>0.115</td>\n",
       "      <td>-5.201</td>\n",
       "      <td>Minor</td>\n",
       "      <td>0.0748</td>\n",
       "      <td>100.889</td>\n",
       "      <td>4-Apr</td>\n",
       "      <td>0.759</td>\n",
       "      <td>Electronic</td>\n",
       "    </tr>\n",
       "    <tr>\n",
       "      <th>1</th>\n",
       "      <td>46652.0</td>\n",
       "      <td>Thievery Corporation</td>\n",
       "      <td>The Shining Path</td>\n",
       "      <td>31.0</td>\n",
       "      <td>0.01270</td>\n",
       "      <td>0.622</td>\n",
       "      <td>218293.0</td>\n",
       "      <td>0.890</td>\n",
       "      <td>0.95000</td>\n",
       "      <td>D</td>\n",
       "      <td>0.124</td>\n",
       "      <td>-7.043</td>\n",
       "      <td>Minor</td>\n",
       "      <td>0.0300</td>\n",
       "      <td>115.00200000000001</td>\n",
       "      <td>4-Apr</td>\n",
       "      <td>0.531</td>\n",
       "      <td>Electronic</td>\n",
       "    </tr>\n",
       "    <tr>\n",
       "      <th>2</th>\n",
       "      <td>30097.0</td>\n",
       "      <td>Dillon Francis</td>\n",
       "      <td>Hurricane</td>\n",
       "      <td>28.0</td>\n",
       "      <td>0.00306</td>\n",
       "      <td>0.620</td>\n",
       "      <td>215613.0</td>\n",
       "      <td>0.755</td>\n",
       "      <td>0.01180</td>\n",
       "      <td>G#</td>\n",
       "      <td>0.534</td>\n",
       "      <td>-4.617</td>\n",
       "      <td>Major</td>\n",
       "      <td>0.0345</td>\n",
       "      <td>127.994</td>\n",
       "      <td>4-Apr</td>\n",
       "      <td>0.333</td>\n",
       "      <td>Electronic</td>\n",
       "    </tr>\n",
       "    <tr>\n",
       "      <th>3</th>\n",
       "      <td>62177.0</td>\n",
       "      <td>Dubloadz</td>\n",
       "      <td>Nitro</td>\n",
       "      <td>34.0</td>\n",
       "      <td>0.02540</td>\n",
       "      <td>0.774</td>\n",
       "      <td>166875.0</td>\n",
       "      <td>0.700</td>\n",
       "      <td>0.00253</td>\n",
       "      <td>C#</td>\n",
       "      <td>0.157</td>\n",
       "      <td>-4.498</td>\n",
       "      <td>Major</td>\n",
       "      <td>0.2390</td>\n",
       "      <td>128.014</td>\n",
       "      <td>4-Apr</td>\n",
       "      <td>0.270</td>\n",
       "      <td>Electronic</td>\n",
       "    </tr>\n",
       "    <tr>\n",
       "      <th>4</th>\n",
       "      <td>24907.0</td>\n",
       "      <td>What So Not</td>\n",
       "      <td>Divide &amp; Conquer</td>\n",
       "      <td>32.0</td>\n",
       "      <td>0.00465</td>\n",
       "      <td>0.638</td>\n",
       "      <td>222369.0</td>\n",
       "      <td>0.587</td>\n",
       "      <td>0.90900</td>\n",
       "      <td>F#</td>\n",
       "      <td>0.157</td>\n",
       "      <td>-6.266</td>\n",
       "      <td>Major</td>\n",
       "      <td>0.0413</td>\n",
       "      <td>145.036</td>\n",
       "      <td>4-Apr</td>\n",
       "      <td>0.323</td>\n",
       "      <td>Electronic</td>\n",
       "    </tr>\n",
       "  </tbody>\n",
       "</table>\n",
       "</div>"
      ],
      "text/plain": [
       "   instance_id           artist_name            track_name  popularity  \\\n",
       "0      32894.0              Röyksopp  Röyksopp's Night Out        27.0   \n",
       "1      46652.0  Thievery Corporation      The Shining Path        31.0   \n",
       "2      30097.0        Dillon Francis             Hurricane        28.0   \n",
       "3      62177.0              Dubloadz                 Nitro        34.0   \n",
       "4      24907.0           What So Not      Divide & Conquer        32.0   \n",
       "\n",
       "   acousticness  danceability  duration_ms  energy  instrumentalness key  \\\n",
       "0       0.00468         0.652         -1.0   0.941           0.79200  A#   \n",
       "1       0.01270         0.622     218293.0   0.890           0.95000   D   \n",
       "2       0.00306         0.620     215613.0   0.755           0.01180  G#   \n",
       "3       0.02540         0.774     166875.0   0.700           0.00253  C#   \n",
       "4       0.00465         0.638     222369.0   0.587           0.90900  F#   \n",
       "\n",
       "   liveness  loudness   mode  speechiness               tempo obtained_date  \\\n",
       "0     0.115    -5.201  Minor       0.0748             100.889         4-Apr   \n",
       "1     0.124    -7.043  Minor       0.0300  115.00200000000001         4-Apr   \n",
       "2     0.534    -4.617  Major       0.0345             127.994         4-Apr   \n",
       "3     0.157    -4.498  Major       0.2390             128.014         4-Apr   \n",
       "4     0.157    -6.266  Major       0.0413             145.036         4-Apr   \n",
       "\n",
       "   valence music_genre  \n",
       "0    0.759  Electronic  \n",
       "1    0.531  Electronic  \n",
       "2    0.333  Electronic  \n",
       "3    0.270  Electronic  \n",
       "4    0.323  Electronic  "
      ]
     },
     "execution_count": 57,
     "metadata": {},
     "output_type": "execute_result"
    }
   ],
   "source": [
    "df.head()"
   ]
  },
  {
   "cell_type": "code",
   "execution_count": 58,
   "id": "70697fff-c7d1-4e68-9f51-469ce10e596f",
   "metadata": {},
   "outputs": [
    {
     "data": {
      "text/plain": [
       "Index(['popularity', 'acousticness', 'danceability', 'duration_ms', 'energy',\n",
       "       'instrumentalness', 'key', 'liveness', 'loudness', 'speechiness',\n",
       "       'tempo', 'valence', 'mode_Major', 'music_genre'],\n",
       "      dtype='object')"
      ]
     },
     "execution_count": 58,
     "metadata": {},
     "output_type": "execute_result"
    }
   ],
   "source": [
    "data_trans.columns"
   ]
  },
  {
   "cell_type": "code",
   "execution_count": 59,
   "id": "3874341f-d3cb-4803-8f74-b9a2bbd9d4d1",
   "metadata": {},
   "outputs": [
    {
     "data": {
      "text/plain": [
       "Index(['popularity', 'acousticness', 'danceability', 'duration_ms', 'energy',\n",
       "       'instrumentalness', 'liveness', 'loudness', 'speechiness', 'tempo',\n",
       "       'valence'],\n",
       "      dtype='object')"
      ]
     },
     "execution_count": 59,
     "metadata": {},
     "output_type": "execute_result"
    }
   ],
   "source": [
    "# not scaling categorical data - key, mode, tempo music_genre\n",
    "cols_to_norm = data_trans.columns.drop(labels=['key','mode_Major','music_genre'])\n",
    "cols_to_norm"
   ]
  },
  {
   "cell_type": "code",
   "execution_count": 60,
   "id": "996f6643-f65a-468c-b7c3-95073edb7d64",
   "metadata": {},
   "outputs": [],
   "source": [
    "data_scaled = data_trans.copy()"
   ]
  },
  {
   "cell_type": "code",
   "execution_count": 61,
   "id": "5459e7c5-7bb7-40cc-827a-3638e1a9fb74",
   "metadata": {},
   "outputs": [],
   "source": [
    "# using a min max scaler\n",
    "scaler = MinMaxScaler()"
   ]
  },
  {
   "cell_type": "code",
   "execution_count": 62,
   "id": "20f92cef-206c-406f-a836-3122675d53b5",
   "metadata": {},
   "outputs": [],
   "source": [
    "data_scaled[cols_to_norm] = scaler.fit_transform(data_trans[cols_to_norm])"
   ]
  },
  {
   "cell_type": "code",
   "execution_count": 63,
   "id": "5a50813b-a0b5-49b7-9684-8eed56e06d26",
   "metadata": {},
   "outputs": [
    {
     "data": {
      "text/html": [
       "<div>\n",
       "<style scoped>\n",
       "    .dataframe tbody tr th:only-of-type {\n",
       "        vertical-align: middle;\n",
       "    }\n",
       "\n",
       "    .dataframe tbody tr th {\n",
       "        vertical-align: top;\n",
       "    }\n",
       "\n",
       "    .dataframe thead th {\n",
       "        text-align: right;\n",
       "    }\n",
       "</style>\n",
       "<table border=\"1\" class=\"dataframe\">\n",
       "  <thead>\n",
       "    <tr style=\"text-align: right;\">\n",
       "      <th></th>\n",
       "      <th>popularity</th>\n",
       "      <th>acousticness</th>\n",
       "      <th>danceability</th>\n",
       "      <th>duration_ms</th>\n",
       "      <th>energy</th>\n",
       "      <th>instrumentalness</th>\n",
       "      <th>key</th>\n",
       "      <th>liveness</th>\n",
       "      <th>loudness</th>\n",
       "      <th>speechiness</th>\n",
       "      <th>tempo</th>\n",
       "      <th>valence</th>\n",
       "      <th>mode_Major</th>\n",
       "      <th>music_genre</th>\n",
       "    </tr>\n",
       "  </thead>\n",
       "  <tbody>\n",
       "    <tr>\n",
       "      <th>0</th>\n",
       "      <td>0.272727</td>\n",
       "      <td>0.004699</td>\n",
       "      <td>0.639465</td>\n",
       "      <td>0.052999</td>\n",
       "      <td>0.941896</td>\n",
       "      <td>0.795181</td>\n",
       "      <td>11.0</td>\n",
       "      <td>0.106358</td>\n",
       "      <td>0.823883</td>\n",
       "      <td>0.057084</td>\n",
       "      <td>0.357889</td>\n",
       "      <td>0.765121</td>\n",
       "      <td>0.0</td>\n",
       "      <td>2.0</td>\n",
       "    </tr>\n",
       "    <tr>\n",
       "      <th>1</th>\n",
       "      <td>0.313131</td>\n",
       "      <td>0.012751</td>\n",
       "      <td>0.607081</td>\n",
       "      <td>0.042114</td>\n",
       "      <td>0.890804</td>\n",
       "      <td>0.953815</td>\n",
       "      <td>3.0</td>\n",
       "      <td>0.115446</td>\n",
       "      <td>0.787616</td>\n",
       "      <td>0.008372</td>\n",
       "      <td>0.433795</td>\n",
       "      <td>0.535282</td>\n",
       "      <td>0.0</td>\n",
       "      <td>2.0</td>\n",
       "    </tr>\n",
       "    <tr>\n",
       "      <th>2</th>\n",
       "      <td>0.282828</td>\n",
       "      <td>0.003072</td>\n",
       "      <td>0.604922</td>\n",
       "      <td>0.041558</td>\n",
       "      <td>0.755562</td>\n",
       "      <td>0.011847</td>\n",
       "      <td>9.0</td>\n",
       "      <td>0.529450</td>\n",
       "      <td>0.835381</td>\n",
       "      <td>0.013265</td>\n",
       "      <td>0.503671</td>\n",
       "      <td>0.335685</td>\n",
       "      <td>1.0</td>\n",
       "      <td>2.0</td>\n",
       "    </tr>\n",
       "    <tr>\n",
       "      <th>3</th>\n",
       "      <td>0.343434</td>\n",
       "      <td>0.025502</td>\n",
       "      <td>0.771157</td>\n",
       "      <td>0.031436</td>\n",
       "      <td>0.700463</td>\n",
       "      <td>0.002540</td>\n",
       "      <td>2.0</td>\n",
       "      <td>0.148769</td>\n",
       "      <td>0.837724</td>\n",
       "      <td>0.235620</td>\n",
       "      <td>0.503778</td>\n",
       "      <td>0.272177</td>\n",
       "      <td>1.0</td>\n",
       "      <td>2.0</td>\n",
       "    </tr>\n",
       "    <tr>\n",
       "      <th>4</th>\n",
       "      <td>0.323232</td>\n",
       "      <td>0.004669</td>\n",
       "      <td>0.624352</td>\n",
       "      <td>0.042961</td>\n",
       "      <td>0.587260</td>\n",
       "      <td>0.912651</td>\n",
       "      <td>7.0</td>\n",
       "      <td>0.148769</td>\n",
       "      <td>0.802914</td>\n",
       "      <td>0.020659</td>\n",
       "      <td>0.595329</td>\n",
       "      <td>0.325605</td>\n",
       "      <td>1.0</td>\n",
       "      <td>2.0</td>\n",
       "    </tr>\n",
       "    <tr>\n",
       "      <th>...</th>\n",
       "      <td>...</td>\n",
       "      <td>...</td>\n",
       "      <td>...</td>\n",
       "      <td>...</td>\n",
       "      <td>...</td>\n",
       "      <td>...</td>\n",
       "      <td>...</td>\n",
       "      <td>...</td>\n",
       "      <td>...</td>\n",
       "      <td>...</td>\n",
       "      <td>...</td>\n",
       "      <td>...</td>\n",
       "      <td>...</td>\n",
       "      <td>...</td>\n",
       "    </tr>\n",
       "    <tr>\n",
       "      <th>49995</th>\n",
       "      <td>0.595960</td>\n",
       "      <td>0.033534</td>\n",
       "      <td>0.921200</td>\n",
       "      <td>0.042459</td>\n",
       "      <td>0.574237</td>\n",
       "      <td>0.000000</td>\n",
       "      <td>2.0</td>\n",
       "      <td>0.110398</td>\n",
       "      <td>0.788029</td>\n",
       "      <td>0.299772</td>\n",
       "      <td>0.342502</td>\n",
       "      <td>0.332661</td>\n",
       "      <td>1.0</td>\n",
       "      <td>3.0</td>\n",
       "    </tr>\n",
       "    <tr>\n",
       "      <th>49996</th>\n",
       "      <td>0.727273</td>\n",
       "      <td>0.157631</td>\n",
       "      <td>0.700993</td>\n",
       "      <td>0.049085</td>\n",
       "      <td>0.361856</td>\n",
       "      <td>0.000000</td>\n",
       "      <td>12.0</td>\n",
       "      <td>0.100300</td>\n",
       "      <td>0.733058</td>\n",
       "      <td>0.035555</td>\n",
       "      <td>0.471664</td>\n",
       "      <td>0.113911</td>\n",
       "      <td>1.0</td>\n",
       "      <td>3.0</td>\n",
       "    </tr>\n",
       "    <tr>\n",
       "      <th>49997</th>\n",
       "      <td>0.515152</td>\n",
       "      <td>0.005994</td>\n",
       "      <td>0.683722</td>\n",
       "      <td>0.036131</td>\n",
       "      <td>0.763576</td>\n",
       "      <td>0.000000</td>\n",
       "      <td>3.0</td>\n",
       "      <td>0.134632</td>\n",
       "      <td>0.819118</td>\n",
       "      <td>0.134500</td>\n",
       "      <td>0.520263</td>\n",
       "      <td>0.398185</td>\n",
       "      <td>1.0</td>\n",
       "      <td>3.0</td>\n",
       "    </tr>\n",
       "    <tr>\n",
       "      <th>49998</th>\n",
       "      <td>0.656566</td>\n",
       "      <td>0.083434</td>\n",
       "      <td>0.779793</td>\n",
       "      <td>0.051352</td>\n",
       "      <td>0.472054</td>\n",
       "      <td>0.000000</td>\n",
       "      <td>8.0</td>\n",
       "      <td>0.097271</td>\n",
       "      <td>0.827525</td>\n",
       "      <td>0.023703</td>\n",
       "      <td>0.223413</td>\n",
       "      <td>0.356855</td>\n",
       "      <td>0.0</td>\n",
       "      <td>3.0</td>\n",
       "    </tr>\n",
       "    <tr>\n",
       "      <th>49999</th>\n",
       "      <td>0.676768</td>\n",
       "      <td>0.102410</td>\n",
       "      <td>0.866149</td>\n",
       "      <td>0.052285</td>\n",
       "      <td>0.642359</td>\n",
       "      <td>0.000000</td>\n",
       "      <td>7.0</td>\n",
       "      <td>0.264892</td>\n",
       "      <td>0.657492</td>\n",
       "      <td>0.085571</td>\n",
       "      <td>0.348811</td>\n",
       "      <td>0.771169</td>\n",
       "      <td>0.0</td>\n",
       "      <td>3.0</td>\n",
       "    </tr>\n",
       "  </tbody>\n",
       "</table>\n",
       "<p>50000 rows × 14 columns</p>\n",
       "</div>"
      ],
      "text/plain": [
       "       popularity  acousticness  danceability  duration_ms    energy  \\\n",
       "0        0.272727      0.004699      0.639465     0.052999  0.941896   \n",
       "1        0.313131      0.012751      0.607081     0.042114  0.890804   \n",
       "2        0.282828      0.003072      0.604922     0.041558  0.755562   \n",
       "3        0.343434      0.025502      0.771157     0.031436  0.700463   \n",
       "4        0.323232      0.004669      0.624352     0.042961  0.587260   \n",
       "...           ...           ...           ...          ...       ...   \n",
       "49995    0.595960      0.033534      0.921200     0.042459  0.574237   \n",
       "49996    0.727273      0.157631      0.700993     0.049085  0.361856   \n",
       "49997    0.515152      0.005994      0.683722     0.036131  0.763576   \n",
       "49998    0.656566      0.083434      0.779793     0.051352  0.472054   \n",
       "49999    0.676768      0.102410      0.866149     0.052285  0.642359   \n",
       "\n",
       "       instrumentalness   key  liveness  loudness  speechiness     tempo  \\\n",
       "0              0.795181  11.0  0.106358  0.823883     0.057084  0.357889   \n",
       "1              0.953815   3.0  0.115446  0.787616     0.008372  0.433795   \n",
       "2              0.011847   9.0  0.529450  0.835381     0.013265  0.503671   \n",
       "3              0.002540   2.0  0.148769  0.837724     0.235620  0.503778   \n",
       "4              0.912651   7.0  0.148769  0.802914     0.020659  0.595329   \n",
       "...                 ...   ...       ...       ...          ...       ...   \n",
       "49995          0.000000   2.0  0.110398  0.788029     0.299772  0.342502   \n",
       "49996          0.000000  12.0  0.100300  0.733058     0.035555  0.471664   \n",
       "49997          0.000000   3.0  0.134632  0.819118     0.134500  0.520263   \n",
       "49998          0.000000   8.0  0.097271  0.827525     0.023703  0.223413   \n",
       "49999          0.000000   7.0  0.264892  0.657492     0.085571  0.348811   \n",
       "\n",
       "        valence  mode_Major  music_genre  \n",
       "0      0.765121         0.0          2.0  \n",
       "1      0.535282         0.0          2.0  \n",
       "2      0.335685         1.0          2.0  \n",
       "3      0.272177         1.0          2.0  \n",
       "4      0.325605         1.0          2.0  \n",
       "...         ...         ...          ...  \n",
       "49995  0.332661         1.0          3.0  \n",
       "49996  0.113911         1.0          3.0  \n",
       "49997  0.398185         1.0          3.0  \n",
       "49998  0.356855         0.0          3.0  \n",
       "49999  0.771169         0.0          3.0  \n",
       "\n",
       "[50000 rows x 14 columns]"
      ]
     },
     "execution_count": 63,
     "metadata": {},
     "output_type": "execute_result"
    }
   ],
   "source": [
    "data_scaled"
   ]
  },
  {
   "cell_type": "code",
   "execution_count": null,
   "id": "3b779a34-8cd6-428c-82cc-8e1288c0a782",
   "metadata": {},
   "outputs": [],
   "source": []
  },
  {
   "cell_type": "markdown",
   "id": "4e0efee8-cc87-47e6-a657-c69814709605",
   "metadata": {},
   "source": [
    "#### Train and test split"
   ]
  },
  {
   "cell_type": "code",
   "execution_count": 64,
   "id": "dba1b9c1-b547-40ef-9b3f-f4f53bd526aa",
   "metadata": {},
   "outputs": [
    {
     "data": {
      "text/html": [
       "<div>\n",
       "<style scoped>\n",
       "    .dataframe tbody tr th:only-of-type {\n",
       "        vertical-align: middle;\n",
       "    }\n",
       "\n",
       "    .dataframe tbody tr th {\n",
       "        vertical-align: top;\n",
       "    }\n",
       "\n",
       "    .dataframe thead th {\n",
       "        text-align: right;\n",
       "    }\n",
       "</style>\n",
       "<table border=\"1\" class=\"dataframe\">\n",
       "  <thead>\n",
       "    <tr style=\"text-align: right;\">\n",
       "      <th></th>\n",
       "      <th>popularity</th>\n",
       "      <th>acousticness</th>\n",
       "      <th>danceability</th>\n",
       "      <th>duration_ms</th>\n",
       "      <th>energy</th>\n",
       "      <th>instrumentalness</th>\n",
       "      <th>key</th>\n",
       "      <th>liveness</th>\n",
       "      <th>loudness</th>\n",
       "      <th>speechiness</th>\n",
       "      <th>tempo</th>\n",
       "      <th>valence</th>\n",
       "      <th>mode_Major</th>\n",
       "      <th>music_genre</th>\n",
       "    </tr>\n",
       "  </thead>\n",
       "  <tbody>\n",
       "    <tr>\n",
       "      <th>0</th>\n",
       "      <td>0.272727</td>\n",
       "      <td>0.004699</td>\n",
       "      <td>0.639465</td>\n",
       "      <td>0.052999</td>\n",
       "      <td>0.941896</td>\n",
       "      <td>0.795181</td>\n",
       "      <td>11.0</td>\n",
       "      <td>0.106358</td>\n",
       "      <td>0.823883</td>\n",
       "      <td>0.057084</td>\n",
       "      <td>0.357889</td>\n",
       "      <td>0.765121</td>\n",
       "      <td>0.0</td>\n",
       "      <td>2.0</td>\n",
       "    </tr>\n",
       "    <tr>\n",
       "      <th>1</th>\n",
       "      <td>0.313131</td>\n",
       "      <td>0.012751</td>\n",
       "      <td>0.607081</td>\n",
       "      <td>0.042114</td>\n",
       "      <td>0.890804</td>\n",
       "      <td>0.953815</td>\n",
       "      <td>3.0</td>\n",
       "      <td>0.115446</td>\n",
       "      <td>0.787616</td>\n",
       "      <td>0.008372</td>\n",
       "      <td>0.433795</td>\n",
       "      <td>0.535282</td>\n",
       "      <td>0.0</td>\n",
       "      <td>2.0</td>\n",
       "    </tr>\n",
       "    <tr>\n",
       "      <th>2</th>\n",
       "      <td>0.282828</td>\n",
       "      <td>0.003072</td>\n",
       "      <td>0.604922</td>\n",
       "      <td>0.041558</td>\n",
       "      <td>0.755562</td>\n",
       "      <td>0.011847</td>\n",
       "      <td>9.0</td>\n",
       "      <td>0.529450</td>\n",
       "      <td>0.835381</td>\n",
       "      <td>0.013265</td>\n",
       "      <td>0.503671</td>\n",
       "      <td>0.335685</td>\n",
       "      <td>1.0</td>\n",
       "      <td>2.0</td>\n",
       "    </tr>\n",
       "    <tr>\n",
       "      <th>3</th>\n",
       "      <td>0.343434</td>\n",
       "      <td>0.025502</td>\n",
       "      <td>0.771157</td>\n",
       "      <td>0.031436</td>\n",
       "      <td>0.700463</td>\n",
       "      <td>0.002540</td>\n",
       "      <td>2.0</td>\n",
       "      <td>0.148769</td>\n",
       "      <td>0.837724</td>\n",
       "      <td>0.235620</td>\n",
       "      <td>0.503778</td>\n",
       "      <td>0.272177</td>\n",
       "      <td>1.0</td>\n",
       "      <td>2.0</td>\n",
       "    </tr>\n",
       "    <tr>\n",
       "      <th>4</th>\n",
       "      <td>0.323232</td>\n",
       "      <td>0.004669</td>\n",
       "      <td>0.624352</td>\n",
       "      <td>0.042961</td>\n",
       "      <td>0.587260</td>\n",
       "      <td>0.912651</td>\n",
       "      <td>7.0</td>\n",
       "      <td>0.148769</td>\n",
       "      <td>0.802914</td>\n",
       "      <td>0.020659</td>\n",
       "      <td>0.595329</td>\n",
       "      <td>0.325605</td>\n",
       "      <td>1.0</td>\n",
       "      <td>2.0</td>\n",
       "    </tr>\n",
       "    <tr>\n",
       "      <th>...</th>\n",
       "      <td>...</td>\n",
       "      <td>...</td>\n",
       "      <td>...</td>\n",
       "      <td>...</td>\n",
       "      <td>...</td>\n",
       "      <td>...</td>\n",
       "      <td>...</td>\n",
       "      <td>...</td>\n",
       "      <td>...</td>\n",
       "      <td>...</td>\n",
       "      <td>...</td>\n",
       "      <td>...</td>\n",
       "      <td>...</td>\n",
       "      <td>...</td>\n",
       "    </tr>\n",
       "    <tr>\n",
       "      <th>49995</th>\n",
       "      <td>0.595960</td>\n",
       "      <td>0.033534</td>\n",
       "      <td>0.921200</td>\n",
       "      <td>0.042459</td>\n",
       "      <td>0.574237</td>\n",
       "      <td>0.000000</td>\n",
       "      <td>2.0</td>\n",
       "      <td>0.110398</td>\n",
       "      <td>0.788029</td>\n",
       "      <td>0.299772</td>\n",
       "      <td>0.342502</td>\n",
       "      <td>0.332661</td>\n",
       "      <td>1.0</td>\n",
       "      <td>3.0</td>\n",
       "    </tr>\n",
       "    <tr>\n",
       "      <th>49996</th>\n",
       "      <td>0.727273</td>\n",
       "      <td>0.157631</td>\n",
       "      <td>0.700993</td>\n",
       "      <td>0.049085</td>\n",
       "      <td>0.361856</td>\n",
       "      <td>0.000000</td>\n",
       "      <td>12.0</td>\n",
       "      <td>0.100300</td>\n",
       "      <td>0.733058</td>\n",
       "      <td>0.035555</td>\n",
       "      <td>0.471664</td>\n",
       "      <td>0.113911</td>\n",
       "      <td>1.0</td>\n",
       "      <td>3.0</td>\n",
       "    </tr>\n",
       "    <tr>\n",
       "      <th>49997</th>\n",
       "      <td>0.515152</td>\n",
       "      <td>0.005994</td>\n",
       "      <td>0.683722</td>\n",
       "      <td>0.036131</td>\n",
       "      <td>0.763576</td>\n",
       "      <td>0.000000</td>\n",
       "      <td>3.0</td>\n",
       "      <td>0.134632</td>\n",
       "      <td>0.819118</td>\n",
       "      <td>0.134500</td>\n",
       "      <td>0.520263</td>\n",
       "      <td>0.398185</td>\n",
       "      <td>1.0</td>\n",
       "      <td>3.0</td>\n",
       "    </tr>\n",
       "    <tr>\n",
       "      <th>49998</th>\n",
       "      <td>0.656566</td>\n",
       "      <td>0.083434</td>\n",
       "      <td>0.779793</td>\n",
       "      <td>0.051352</td>\n",
       "      <td>0.472054</td>\n",
       "      <td>0.000000</td>\n",
       "      <td>8.0</td>\n",
       "      <td>0.097271</td>\n",
       "      <td>0.827525</td>\n",
       "      <td>0.023703</td>\n",
       "      <td>0.223413</td>\n",
       "      <td>0.356855</td>\n",
       "      <td>0.0</td>\n",
       "      <td>3.0</td>\n",
       "    </tr>\n",
       "    <tr>\n",
       "      <th>49999</th>\n",
       "      <td>0.676768</td>\n",
       "      <td>0.102410</td>\n",
       "      <td>0.866149</td>\n",
       "      <td>0.052285</td>\n",
       "      <td>0.642359</td>\n",
       "      <td>0.000000</td>\n",
       "      <td>7.0</td>\n",
       "      <td>0.264892</td>\n",
       "      <td>0.657492</td>\n",
       "      <td>0.085571</td>\n",
       "      <td>0.348811</td>\n",
       "      <td>0.771169</td>\n",
       "      <td>0.0</td>\n",
       "      <td>3.0</td>\n",
       "    </tr>\n",
       "  </tbody>\n",
       "</table>\n",
       "<p>50000 rows × 14 columns</p>\n",
       "</div>"
      ],
      "text/plain": [
       "       popularity  acousticness  danceability  duration_ms    energy  \\\n",
       "0        0.272727      0.004699      0.639465     0.052999  0.941896   \n",
       "1        0.313131      0.012751      0.607081     0.042114  0.890804   \n",
       "2        0.282828      0.003072      0.604922     0.041558  0.755562   \n",
       "3        0.343434      0.025502      0.771157     0.031436  0.700463   \n",
       "4        0.323232      0.004669      0.624352     0.042961  0.587260   \n",
       "...           ...           ...           ...          ...       ...   \n",
       "49995    0.595960      0.033534      0.921200     0.042459  0.574237   \n",
       "49996    0.727273      0.157631      0.700993     0.049085  0.361856   \n",
       "49997    0.515152      0.005994      0.683722     0.036131  0.763576   \n",
       "49998    0.656566      0.083434      0.779793     0.051352  0.472054   \n",
       "49999    0.676768      0.102410      0.866149     0.052285  0.642359   \n",
       "\n",
       "       instrumentalness   key  liveness  loudness  speechiness     tempo  \\\n",
       "0              0.795181  11.0  0.106358  0.823883     0.057084  0.357889   \n",
       "1              0.953815   3.0  0.115446  0.787616     0.008372  0.433795   \n",
       "2              0.011847   9.0  0.529450  0.835381     0.013265  0.503671   \n",
       "3              0.002540   2.0  0.148769  0.837724     0.235620  0.503778   \n",
       "4              0.912651   7.0  0.148769  0.802914     0.020659  0.595329   \n",
       "...                 ...   ...       ...       ...          ...       ...   \n",
       "49995          0.000000   2.0  0.110398  0.788029     0.299772  0.342502   \n",
       "49996          0.000000  12.0  0.100300  0.733058     0.035555  0.471664   \n",
       "49997          0.000000   3.0  0.134632  0.819118     0.134500  0.520263   \n",
       "49998          0.000000   8.0  0.097271  0.827525     0.023703  0.223413   \n",
       "49999          0.000000   7.0  0.264892  0.657492     0.085571  0.348811   \n",
       "\n",
       "        valence  mode_Major  music_genre  \n",
       "0      0.765121         0.0          2.0  \n",
       "1      0.535282         0.0          2.0  \n",
       "2      0.335685         1.0          2.0  \n",
       "3      0.272177         1.0          2.0  \n",
       "4      0.325605         1.0          2.0  \n",
       "...         ...         ...          ...  \n",
       "49995  0.332661         1.0          3.0  \n",
       "49996  0.113911         1.0          3.0  \n",
       "49997  0.398185         1.0          3.0  \n",
       "49998  0.356855         0.0          3.0  \n",
       "49999  0.771169         0.0          3.0  \n",
       "\n",
       "[50000 rows x 14 columns]"
      ]
     },
     "execution_count": 64,
     "metadata": {},
     "output_type": "execute_result"
    }
   ],
   "source": [
    "data_scaled"
   ]
  },
  {
   "cell_type": "code",
   "execution_count": 65,
   "id": "1b50dfe0-de58-4ac3-bd63-45e62e8f2698",
   "metadata": {},
   "outputs": [
    {
     "data": {
      "text/plain": [
       "4.0     5000\n",
       "8.0     5000\n",
       "7.0     5000\n",
       "2.0     5000\n",
       "5.0     5000\n",
       "9.0     5000\n",
       "3.0     5000\n",
       "6.0     5000\n",
       "10.0    5000\n",
       "1.0     5000\n",
       "Name: music_genre, dtype: int64"
      ]
     },
     "execution_count": 65,
     "metadata": {},
     "output_type": "execute_result"
    }
   ],
   "source": [
    "data_scaled.music_genre.value_counts()"
   ]
  },
  {
   "cell_type": "code",
   "execution_count": 66,
   "id": "f9318df5-e023-466b-87f5-b4755e4d2838",
   "metadata": {},
   "outputs": [],
   "source": [
    "# splitting data; ensure class balance\n",
    "# 10% testing, 90% training\n",
    "trainData = pd.DataFrame()\n",
    "testData = pd.DataFrame()\n",
    "\n",
    "for category in data_scaled['music_genre'].unique():\n",
    "    subset = data_scaled[data_scaled['music_genre'] == category]\n",
    "    \n",
    "    train, test = train_test_split(subset, test_size=0.1, random_state=42)\n",
    "    \n",
    "    trainData = trainData.append(train, ignore_index=True)\n",
    "    testData = testData.append(test, ignore_index=True)\n",
    "    "
   ]
  },
  {
   "cell_type": "code",
   "execution_count": 67,
   "id": "07489789-5c52-4921-b4cd-8d2c1212a73d",
   "metadata": {},
   "outputs": [
    {
     "data": {
      "text/html": [
       "<div>\n",
       "<style scoped>\n",
       "    .dataframe tbody tr th:only-of-type {\n",
       "        vertical-align: middle;\n",
       "    }\n",
       "\n",
       "    .dataframe tbody tr th {\n",
       "        vertical-align: top;\n",
       "    }\n",
       "\n",
       "    .dataframe thead th {\n",
       "        text-align: right;\n",
       "    }\n",
       "</style>\n",
       "<table border=\"1\" class=\"dataframe\">\n",
       "  <thead>\n",
       "    <tr style=\"text-align: right;\">\n",
       "      <th></th>\n",
       "      <th>popularity</th>\n",
       "      <th>acousticness</th>\n",
       "      <th>danceability</th>\n",
       "      <th>duration_ms</th>\n",
       "      <th>energy</th>\n",
       "      <th>instrumentalness</th>\n",
       "      <th>key</th>\n",
       "      <th>liveness</th>\n",
       "      <th>loudness</th>\n",
       "      <th>speechiness</th>\n",
       "      <th>tempo</th>\n",
       "      <th>valence</th>\n",
       "      <th>mode_Major</th>\n",
       "      <th>music_genre</th>\n",
       "    </tr>\n",
       "  </thead>\n",
       "  <tbody>\n",
       "    <tr>\n",
       "      <th>0</th>\n",
       "      <td>0.303030</td>\n",
       "      <td>0.031526</td>\n",
       "      <td>0.394430</td>\n",
       "      <td>0.064317</td>\n",
       "      <td>0.752557</td>\n",
       "      <td>0.266064</td>\n",
       "      <td>6.0</td>\n",
       "      <td>0.139681</td>\n",
       "      <td>0.732526</td>\n",
       "      <td>0.017288</td>\n",
       "      <td>0.453160</td>\n",
       "      <td>0.420363</td>\n",
       "      <td>1.0</td>\n",
       "      <td>2.0</td>\n",
       "    </tr>\n",
       "    <tr>\n",
       "      <th>1</th>\n",
       "      <td>0.272727</td>\n",
       "      <td>0.000949</td>\n",
       "      <td>0.743092</td>\n",
       "      <td>0.048135</td>\n",
       "      <td>0.965939</td>\n",
       "      <td>0.000634</td>\n",
       "      <td>2.0</td>\n",
       "      <td>0.300233</td>\n",
       "      <td>0.930282</td>\n",
       "      <td>0.219311</td>\n",
       "      <td>0.568287</td>\n",
       "      <td>0.375000</td>\n",
       "      <td>1.0</td>\n",
       "      <td>2.0</td>\n",
       "    </tr>\n",
       "    <tr>\n",
       "      <th>2</th>\n",
       "      <td>0.444444</td>\n",
       "      <td>0.153614</td>\n",
       "      <td>0.790587</td>\n",
       "      <td>0.051842</td>\n",
       "      <td>0.549192</td>\n",
       "      <td>0.380522</td>\n",
       "      <td>6.0</td>\n",
       "      <td>0.336585</td>\n",
       "      <td>0.732250</td>\n",
       "      <td>0.025334</td>\n",
       "      <td>0.460746</td>\n",
       "      <td>0.479839</td>\n",
       "      <td>1.0</td>\n",
       "      <td>2.0</td>\n",
       "    </tr>\n",
       "    <tr>\n",
       "      <th>3</th>\n",
       "      <td>0.323232</td>\n",
       "      <td>0.320281</td>\n",
       "      <td>0.835924</td>\n",
       "      <td>0.036348</td>\n",
       "      <td>0.497099</td>\n",
       "      <td>0.034839</td>\n",
       "      <td>12.0</td>\n",
       "      <td>0.126554</td>\n",
       "      <td>0.772495</td>\n",
       "      <td>0.018810</td>\n",
       "      <td>0.428405</td>\n",
       "      <td>0.375000</td>\n",
       "      <td>0.0</td>\n",
       "      <td>2.0</td>\n",
       "    </tr>\n",
       "    <tr>\n",
       "      <th>4</th>\n",
       "      <td>0.444444</td>\n",
       "      <td>0.783133</td>\n",
       "      <td>0.530440</td>\n",
       "      <td>0.054916</td>\n",
       "      <td>0.327795</td>\n",
       "      <td>0.931727</td>\n",
       "      <td>11.0</td>\n",
       "      <td>0.102319</td>\n",
       "      <td>0.603702</td>\n",
       "      <td>0.013265</td>\n",
       "      <td>0.632801</td>\n",
       "      <td>0.039919</td>\n",
       "      <td>1.0</td>\n",
       "      <td>2.0</td>\n",
       "    </tr>\n",
       "    <tr>\n",
       "      <th>...</th>\n",
       "      <td>...</td>\n",
       "      <td>...</td>\n",
       "      <td>...</td>\n",
       "      <td>...</td>\n",
       "      <td>...</td>\n",
       "      <td>...</td>\n",
       "      <td>...</td>\n",
       "      <td>...</td>\n",
       "      <td>...</td>\n",
       "      <td>...</td>\n",
       "      <td>...</td>\n",
       "      <td>...</td>\n",
       "      <td>...</td>\n",
       "      <td>...</td>\n",
       "    </tr>\n",
       "    <tr>\n",
       "      <th>44995</th>\n",
       "      <td>0.505051</td>\n",
       "      <td>0.101406</td>\n",
       "      <td>0.870466</td>\n",
       "      <td>0.037012</td>\n",
       "      <td>0.647368</td>\n",
       "      <td>0.000000</td>\n",
       "      <td>7.0</td>\n",
       "      <td>0.101310</td>\n",
       "      <td>0.806064</td>\n",
       "      <td>0.334566</td>\n",
       "      <td>0.568260</td>\n",
       "      <td>0.438508</td>\n",
       "      <td>0.0</td>\n",
       "      <td>3.0</td>\n",
       "    </tr>\n",
       "    <tr>\n",
       "      <th>44996</th>\n",
       "      <td>0.575758</td>\n",
       "      <td>0.071285</td>\n",
       "      <td>0.772237</td>\n",
       "      <td>0.042459</td>\n",
       "      <td>0.679426</td>\n",
       "      <td>0.000000</td>\n",
       "      <td>6.0</td>\n",
       "      <td>0.100300</td>\n",
       "      <td>0.800748</td>\n",
       "      <td>0.157334</td>\n",
       "      <td>0.229367</td>\n",
       "      <td>0.497984</td>\n",
       "      <td>0.0</td>\n",
       "      <td>3.0</td>\n",
       "    </tr>\n",
       "    <tr>\n",
       "      <th>44997</th>\n",
       "      <td>0.515152</td>\n",
       "      <td>0.135542</td>\n",
       "      <td>0.682642</td>\n",
       "      <td>0.053409</td>\n",
       "      <td>0.668406</td>\n",
       "      <td>0.000000</td>\n",
       "      <td>2.0</td>\n",
       "      <td>0.153817</td>\n",
       "      <td>0.702678</td>\n",
       "      <td>0.381320</td>\n",
       "      <td>0.468315</td>\n",
       "      <td>0.200605</td>\n",
       "      <td>1.0</td>\n",
       "      <td>3.0</td>\n",
       "    </tr>\n",
       "    <tr>\n",
       "      <th>44998</th>\n",
       "      <td>0.555556</td>\n",
       "      <td>0.130522</td>\n",
       "      <td>0.798143</td>\n",
       "      <td>0.032092</td>\n",
       "      <td>0.445005</td>\n",
       "      <td>0.000018</td>\n",
       "      <td>3.0</td>\n",
       "      <td>0.659709</td>\n",
       "      <td>0.755779</td>\n",
       "      <td>0.606393</td>\n",
       "      <td>0.674865</td>\n",
       "      <td>0.601815</td>\n",
       "      <td>1.0</td>\n",
       "      <td>3.0</td>\n",
       "    </tr>\n",
       "    <tr>\n",
       "      <th>44999</th>\n",
       "      <td>0.646465</td>\n",
       "      <td>0.583333</td>\n",
       "      <td>0.738774</td>\n",
       "      <td>0.032741</td>\n",
       "      <td>0.484075</td>\n",
       "      <td>0.000014</td>\n",
       "      <td>5.0</td>\n",
       "      <td>0.094241</td>\n",
       "      <td>0.791928</td>\n",
       "      <td>0.132326</td>\n",
       "      <td>0.482738</td>\n",
       "      <td>0.356855</td>\n",
       "      <td>1.0</td>\n",
       "      <td>3.0</td>\n",
       "    </tr>\n",
       "  </tbody>\n",
       "</table>\n",
       "<p>45000 rows × 14 columns</p>\n",
       "</div>"
      ],
      "text/plain": [
       "       popularity  acousticness  danceability  duration_ms    energy  \\\n",
       "0        0.303030      0.031526      0.394430     0.064317  0.752557   \n",
       "1        0.272727      0.000949      0.743092     0.048135  0.965939   \n",
       "2        0.444444      0.153614      0.790587     0.051842  0.549192   \n",
       "3        0.323232      0.320281      0.835924     0.036348  0.497099   \n",
       "4        0.444444      0.783133      0.530440     0.054916  0.327795   \n",
       "...           ...           ...           ...          ...       ...   \n",
       "44995    0.505051      0.101406      0.870466     0.037012  0.647368   \n",
       "44996    0.575758      0.071285      0.772237     0.042459  0.679426   \n",
       "44997    0.515152      0.135542      0.682642     0.053409  0.668406   \n",
       "44998    0.555556      0.130522      0.798143     0.032092  0.445005   \n",
       "44999    0.646465      0.583333      0.738774     0.032741  0.484075   \n",
       "\n",
       "       instrumentalness   key  liveness  loudness  speechiness     tempo  \\\n",
       "0              0.266064   6.0  0.139681  0.732526     0.017288  0.453160   \n",
       "1              0.000634   2.0  0.300233  0.930282     0.219311  0.568287   \n",
       "2              0.380522   6.0  0.336585  0.732250     0.025334  0.460746   \n",
       "3              0.034839  12.0  0.126554  0.772495     0.018810  0.428405   \n",
       "4              0.931727  11.0  0.102319  0.603702     0.013265  0.632801   \n",
       "...                 ...   ...       ...       ...          ...       ...   \n",
       "44995          0.000000   7.0  0.101310  0.806064     0.334566  0.568260   \n",
       "44996          0.000000   6.0  0.100300  0.800748     0.157334  0.229367   \n",
       "44997          0.000000   2.0  0.153817  0.702678     0.381320  0.468315   \n",
       "44998          0.000018   3.0  0.659709  0.755779     0.606393  0.674865   \n",
       "44999          0.000014   5.0  0.094241  0.791928     0.132326  0.482738   \n",
       "\n",
       "        valence  mode_Major  music_genre  \n",
       "0      0.420363         1.0          2.0  \n",
       "1      0.375000         1.0          2.0  \n",
       "2      0.479839         1.0          2.0  \n",
       "3      0.375000         0.0          2.0  \n",
       "4      0.039919         1.0          2.0  \n",
       "...         ...         ...          ...  \n",
       "44995  0.438508         0.0          3.0  \n",
       "44996  0.497984         0.0          3.0  \n",
       "44997  0.200605         1.0          3.0  \n",
       "44998  0.601815         1.0          3.0  \n",
       "44999  0.356855         1.0          3.0  \n",
       "\n",
       "[45000 rows x 14 columns]"
      ]
     },
     "execution_count": 67,
     "metadata": {},
     "output_type": "execute_result"
    }
   ],
   "source": [
    "trainData"
   ]
  },
  {
   "cell_type": "code",
   "execution_count": 68,
   "id": "a47c5ec2-8162-4c1f-94cd-5dc70b2ca991",
   "metadata": {},
   "outputs": [
    {
     "data": {
      "text/plain": [
       "4.0     4500\n",
       "8.0     4500\n",
       "7.0     4500\n",
       "2.0     4500\n",
       "5.0     4500\n",
       "9.0     4500\n",
       "3.0     4500\n",
       "6.0     4500\n",
       "10.0    4500\n",
       "1.0     4500\n",
       "Name: music_genre, dtype: int64"
      ]
     },
     "execution_count": 68,
     "metadata": {},
     "output_type": "execute_result"
    }
   ],
   "source": [
    "trainData['music_genre'].value_counts()"
   ]
  },
  {
   "cell_type": "code",
   "execution_count": 69,
   "id": "adbae55c-24f2-464e-913d-2d7a8dd1ae30",
   "metadata": {},
   "outputs": [
    {
     "data": {
      "text/html": [
       "<div>\n",
       "<style scoped>\n",
       "    .dataframe tbody tr th:only-of-type {\n",
       "        vertical-align: middle;\n",
       "    }\n",
       "\n",
       "    .dataframe tbody tr th {\n",
       "        vertical-align: top;\n",
       "    }\n",
       "\n",
       "    .dataframe thead th {\n",
       "        text-align: right;\n",
       "    }\n",
       "</style>\n",
       "<table border=\"1\" class=\"dataframe\">\n",
       "  <thead>\n",
       "    <tr style=\"text-align: right;\">\n",
       "      <th></th>\n",
       "      <th>popularity</th>\n",
       "      <th>acousticness</th>\n",
       "      <th>danceability</th>\n",
       "      <th>duration_ms</th>\n",
       "      <th>energy</th>\n",
       "      <th>instrumentalness</th>\n",
       "      <th>key</th>\n",
       "      <th>liveness</th>\n",
       "      <th>loudness</th>\n",
       "      <th>speechiness</th>\n",
       "      <th>tempo</th>\n",
       "      <th>valence</th>\n",
       "      <th>mode_Major</th>\n",
       "      <th>music_genre</th>\n",
       "    </tr>\n",
       "  </thead>\n",
       "  <tbody>\n",
       "    <tr>\n",
       "      <th>0</th>\n",
       "      <td>0.313131</td>\n",
       "      <td>0.013454</td>\n",
       "      <td>0.272453</td>\n",
       "      <td>0.063569</td>\n",
       "      <td>0.981968</td>\n",
       "      <td>0.062149</td>\n",
       "      <td>6.0</td>\n",
       "      <td>0.282057</td>\n",
       "      <td>0.871392</td>\n",
       "      <td>0.388931</td>\n",
       "      <td>0.619876</td>\n",
       "      <td>0.043347</td>\n",
       "      <td>0.0</td>\n",
       "      <td>2.0</td>\n",
       "    </tr>\n",
       "    <tr>\n",
       "      <th>1</th>\n",
       "      <td>0.515152</td>\n",
       "      <td>0.092771</td>\n",
       "      <td>0.504534</td>\n",
       "      <td>0.049416</td>\n",
       "      <td>0.513128</td>\n",
       "      <td>0.167671</td>\n",
       "      <td>1.0</td>\n",
       "      <td>0.320429</td>\n",
       "      <td>0.710337</td>\n",
       "      <td>0.008916</td>\n",
       "      <td>0.401169</td>\n",
       "      <td>0.295363</td>\n",
       "      <td>1.0</td>\n",
       "      <td>2.0</td>\n",
       "    </tr>\n",
       "    <tr>\n",
       "      <th>2</th>\n",
       "      <td>0.282828</td>\n",
       "      <td>0.000151</td>\n",
       "      <td>0.434370</td>\n",
       "      <td>0.061797</td>\n",
       "      <td>0.736528</td>\n",
       "      <td>0.455823</td>\n",
       "      <td>5.0</td>\n",
       "      <td>0.141700</td>\n",
       "      <td>0.808013</td>\n",
       "      <td>0.010329</td>\n",
       "      <td>0.514696</td>\n",
       "      <td>0.098085</td>\n",
       "      <td>1.0</td>\n",
       "      <td>2.0</td>\n",
       "    </tr>\n",
       "    <tr>\n",
       "      <th>3</th>\n",
       "      <td>0.494949</td>\n",
       "      <td>0.055120</td>\n",
       "      <td>0.528282</td>\n",
       "      <td>0.031124</td>\n",
       "      <td>0.702467</td>\n",
       "      <td>0.468876</td>\n",
       "      <td>2.0</td>\n",
       "      <td>0.333555</td>\n",
       "      <td>0.831601</td>\n",
       "      <td>0.311732</td>\n",
       "      <td>0.676070</td>\n",
       "      <td>0.450605</td>\n",
       "      <td>1.0</td>\n",
       "      <td>2.0</td>\n",
       "    </tr>\n",
       "    <tr>\n",
       "      <th>4</th>\n",
       "      <td>0.434343</td>\n",
       "      <td>0.312249</td>\n",
       "      <td>0.806779</td>\n",
       "      <td>0.036792</td>\n",
       "      <td>0.905831</td>\n",
       "      <td>0.086647</td>\n",
       "      <td>7.0</td>\n",
       "      <td>0.073339</td>\n",
       "      <td>0.818901</td>\n",
       "      <td>0.053061</td>\n",
       "      <td>0.315475</td>\n",
       "      <td>0.642137</td>\n",
       "      <td>0.0</td>\n",
       "      <td>2.0</td>\n",
       "    </tr>\n",
       "    <tr>\n",
       "      <th>...</th>\n",
       "      <td>...</td>\n",
       "      <td>...</td>\n",
       "      <td>...</td>\n",
       "      <td>...</td>\n",
       "      <td>...</td>\n",
       "      <td>...</td>\n",
       "      <td>...</td>\n",
       "      <td>...</td>\n",
       "      <td>...</td>\n",
       "      <td>...</td>\n",
       "      <td>...</td>\n",
       "      <td>...</td>\n",
       "      <td>...</td>\n",
       "      <td>...</td>\n",
       "    </tr>\n",
       "    <tr>\n",
       "      <th>4995</th>\n",
       "      <td>0.676768</td>\n",
       "      <td>0.000810</td>\n",
       "      <td>0.849957</td>\n",
       "      <td>0.035561</td>\n",
       "      <td>0.661393</td>\n",
       "      <td>0.001265</td>\n",
       "      <td>9.0</td>\n",
       "      <td>0.095251</td>\n",
       "      <td>0.835440</td>\n",
       "      <td>0.035338</td>\n",
       "      <td>0.589644</td>\n",
       "      <td>0.185484</td>\n",
       "      <td>1.0</td>\n",
       "      <td>3.0</td>\n",
       "    </tr>\n",
       "    <tr>\n",
       "      <th>4996</th>\n",
       "      <td>0.525253</td>\n",
       "      <td>0.800201</td>\n",
       "      <td>0.507772</td>\n",
       "      <td>0.073919</td>\n",
       "      <td>0.626330</td>\n",
       "      <td>0.000002</td>\n",
       "      <td>8.0</td>\n",
       "      <td>0.212384</td>\n",
       "      <td>0.776984</td>\n",
       "      <td>0.303034</td>\n",
       "      <td>0.337161</td>\n",
       "      <td>0.451613</td>\n",
       "      <td>0.0</td>\n",
       "      <td>3.0</td>\n",
       "    </tr>\n",
       "    <tr>\n",
       "      <th>4997</th>\n",
       "      <td>0.616162</td>\n",
       "      <td>0.465863</td>\n",
       "      <td>0.618955</td>\n",
       "      <td>0.012521</td>\n",
       "      <td>0.511124</td>\n",
       "      <td>0.000000</td>\n",
       "      <td>1.0</td>\n",
       "      <td>0.063645</td>\n",
       "      <td>0.766804</td>\n",
       "      <td>0.063825</td>\n",
       "      <td>0.240167</td>\n",
       "      <td>0.392137</td>\n",
       "      <td>0.0</td>\n",
       "      <td>3.0</td>\n",
       "    </tr>\n",
       "    <tr>\n",
       "      <th>4998</th>\n",
       "      <td>0.484848</td>\n",
       "      <td>0.547189</td>\n",
       "      <td>0.502375</td>\n",
       "      <td>0.008484</td>\n",
       "      <td>0.794632</td>\n",
       "      <td>0.000000</td>\n",
       "      <td>11.0</td>\n",
       "      <td>0.812184</td>\n",
       "      <td>0.752373</td>\n",
       "      <td>0.328042</td>\n",
       "      <td>0.375547</td>\n",
       "      <td>0.540323</td>\n",
       "      <td>1.0</td>\n",
       "      <td>3.0</td>\n",
       "    </tr>\n",
       "    <tr>\n",
       "      <th>4999</th>\n",
       "      <td>0.565657</td>\n",
       "      <td>0.135542</td>\n",
       "      <td>0.568221</td>\n",
       "      <td>0.037415</td>\n",
       "      <td>0.855741</td>\n",
       "      <td>0.000000</td>\n",
       "      <td>2.0</td>\n",
       "      <td>0.751598</td>\n",
       "      <td>0.857748</td>\n",
       "      <td>0.326954</td>\n",
       "      <td>0.246105</td>\n",
       "      <td>0.553427</td>\n",
       "      <td>1.0</td>\n",
       "      <td>3.0</td>\n",
       "    </tr>\n",
       "  </tbody>\n",
       "</table>\n",
       "<p>5000 rows × 14 columns</p>\n",
       "</div>"
      ],
      "text/plain": [
       "      popularity  acousticness  danceability  duration_ms    energy  \\\n",
       "0       0.313131      0.013454      0.272453     0.063569  0.981968   \n",
       "1       0.515152      0.092771      0.504534     0.049416  0.513128   \n",
       "2       0.282828      0.000151      0.434370     0.061797  0.736528   \n",
       "3       0.494949      0.055120      0.528282     0.031124  0.702467   \n",
       "4       0.434343      0.312249      0.806779     0.036792  0.905831   \n",
       "...          ...           ...           ...          ...       ...   \n",
       "4995    0.676768      0.000810      0.849957     0.035561  0.661393   \n",
       "4996    0.525253      0.800201      0.507772     0.073919  0.626330   \n",
       "4997    0.616162      0.465863      0.618955     0.012521  0.511124   \n",
       "4998    0.484848      0.547189      0.502375     0.008484  0.794632   \n",
       "4999    0.565657      0.135542      0.568221     0.037415  0.855741   \n",
       "\n",
       "      instrumentalness   key  liveness  loudness  speechiness     tempo  \\\n",
       "0             0.062149   6.0  0.282057  0.871392     0.388931  0.619876   \n",
       "1             0.167671   1.0  0.320429  0.710337     0.008916  0.401169   \n",
       "2             0.455823   5.0  0.141700  0.808013     0.010329  0.514696   \n",
       "3             0.468876   2.0  0.333555  0.831601     0.311732  0.676070   \n",
       "4             0.086647   7.0  0.073339  0.818901     0.053061  0.315475   \n",
       "...                ...   ...       ...       ...          ...       ...   \n",
       "4995          0.001265   9.0  0.095251  0.835440     0.035338  0.589644   \n",
       "4996          0.000002   8.0  0.212384  0.776984     0.303034  0.337161   \n",
       "4997          0.000000   1.0  0.063645  0.766804     0.063825  0.240167   \n",
       "4998          0.000000  11.0  0.812184  0.752373     0.328042  0.375547   \n",
       "4999          0.000000   2.0  0.751598  0.857748     0.326954  0.246105   \n",
       "\n",
       "       valence  mode_Major  music_genre  \n",
       "0     0.043347         0.0          2.0  \n",
       "1     0.295363         1.0          2.0  \n",
       "2     0.098085         1.0          2.0  \n",
       "3     0.450605         1.0          2.0  \n",
       "4     0.642137         0.0          2.0  \n",
       "...        ...         ...          ...  \n",
       "4995  0.185484         1.0          3.0  \n",
       "4996  0.451613         0.0          3.0  \n",
       "4997  0.392137         0.0          3.0  \n",
       "4998  0.540323         1.0          3.0  \n",
       "4999  0.553427         1.0          3.0  \n",
       "\n",
       "[5000 rows x 14 columns]"
      ]
     },
     "execution_count": 69,
     "metadata": {},
     "output_type": "execute_result"
    }
   ],
   "source": [
    "testData"
   ]
  },
  {
   "cell_type": "code",
   "execution_count": 70,
   "id": "d15f2df1-14c7-4a76-ba6c-d27c284bcb07",
   "metadata": {},
   "outputs": [
    {
     "data": {
      "text/plain": [
       "6.0     500\n",
       "5.0     500\n",
       "1.0     500\n",
       "4.0     500\n",
       "9.0     500\n",
       "2.0     500\n",
       "10.0    500\n",
       "3.0     500\n",
       "8.0     500\n",
       "7.0     500\n",
       "Name: music_genre, dtype: int64"
      ]
     },
     "execution_count": 70,
     "metadata": {},
     "output_type": "execute_result"
    }
   ],
   "source": [
    "testData['music_genre'].value_counts()"
   ]
  },
  {
   "cell_type": "code",
   "execution_count": 71,
   "id": "4d606330-133b-4d76-becc-cbb60602466a",
   "metadata": {},
   "outputs": [],
   "source": [
    "# splitting train and test into X (independent variables) and y (labels)\n",
    "y_train = trainData['music_genre']\n",
    "X_train = trainData.drop(columns=['music_genre'])\n",
    "\n",
    "y_test = testData['music_genre']\n",
    "X_test = testData.drop(columns=['music_genre'])"
   ]
  },
  {
   "cell_type": "markdown",
   "id": "c5fe7d25-f02f-48bf-8383-651ac49ed587",
   "metadata": {},
   "source": [
    "### Dimension Reduction Methods"
   ]
  },
  {
   "cell_type": "markdown",
   "id": "78ea9634-e77b-4fd4-bf3a-30e3632dea4b",
   "metadata": {},
   "source": [
    "#### LDA"
   ]
  },
  {
   "cell_type": "code",
   "execution_count": 72,
   "id": "783b30c2-d6a9-4535-9bd0-2879d71de659",
   "metadata": {},
   "outputs": [],
   "source": [
    "# using LDA for dimension reduction because it creates partial separtion of classes (better than other methods) \n",
    "# and outcomes are labeled"
   ]
  },
  {
   "cell_type": "code",
   "execution_count": 73,
   "id": "b7514434-bb0e-486d-b3c1-165d6e9d401b",
   "metadata": {},
   "outputs": [
    {
     "data": {
      "text/html": [
       "<style>#sk-container-id-1 {color: black;background-color: white;}#sk-container-id-1 pre{padding: 0;}#sk-container-id-1 div.sk-toggleable {background-color: white;}#sk-container-id-1 label.sk-toggleable__label {cursor: pointer;display: block;width: 100%;margin-bottom: 0;padding: 0.3em;box-sizing: border-box;text-align: center;}#sk-container-id-1 label.sk-toggleable__label-arrow:before {content: \"▸\";float: left;margin-right: 0.25em;color: #696969;}#sk-container-id-1 label.sk-toggleable__label-arrow:hover:before {color: black;}#sk-container-id-1 div.sk-estimator:hover label.sk-toggleable__label-arrow:before {color: black;}#sk-container-id-1 div.sk-toggleable__content {max-height: 0;max-width: 0;overflow: hidden;text-align: left;background-color: #f0f8ff;}#sk-container-id-1 div.sk-toggleable__content pre {margin: 0.2em;color: black;border-radius: 0.25em;background-color: #f0f8ff;}#sk-container-id-1 input.sk-toggleable__control:checked~div.sk-toggleable__content {max-height: 200px;max-width: 100%;overflow: auto;}#sk-container-id-1 input.sk-toggleable__control:checked~label.sk-toggleable__label-arrow:before {content: \"▾\";}#sk-container-id-1 div.sk-estimator input.sk-toggleable__control:checked~label.sk-toggleable__label {background-color: #d4ebff;}#sk-container-id-1 div.sk-label input.sk-toggleable__control:checked~label.sk-toggleable__label {background-color: #d4ebff;}#sk-container-id-1 input.sk-hidden--visually {border: 0;clip: rect(1px 1px 1px 1px);clip: rect(1px, 1px, 1px, 1px);height: 1px;margin: -1px;overflow: hidden;padding: 0;position: absolute;width: 1px;}#sk-container-id-1 div.sk-estimator {font-family: monospace;background-color: #f0f8ff;border: 1px dotted black;border-radius: 0.25em;box-sizing: border-box;margin-bottom: 0.5em;}#sk-container-id-1 div.sk-estimator:hover {background-color: #d4ebff;}#sk-container-id-1 div.sk-parallel-item::after {content: \"\";width: 100%;border-bottom: 1px solid gray;flex-grow: 1;}#sk-container-id-1 div.sk-label:hover label.sk-toggleable__label {background-color: #d4ebff;}#sk-container-id-1 div.sk-serial::before {content: \"\";position: absolute;border-left: 1px solid gray;box-sizing: border-box;top: 0;bottom: 0;left: 50%;z-index: 0;}#sk-container-id-1 div.sk-serial {display: flex;flex-direction: column;align-items: center;background-color: white;padding-right: 0.2em;padding-left: 0.2em;position: relative;}#sk-container-id-1 div.sk-item {position: relative;z-index: 1;}#sk-container-id-1 div.sk-parallel {display: flex;align-items: stretch;justify-content: center;background-color: white;position: relative;}#sk-container-id-1 div.sk-item::before, #sk-container-id-1 div.sk-parallel-item::before {content: \"\";position: absolute;border-left: 1px solid gray;box-sizing: border-box;top: 0;bottom: 0;left: 50%;z-index: -1;}#sk-container-id-1 div.sk-parallel-item {display: flex;flex-direction: column;z-index: 1;position: relative;background-color: white;}#sk-container-id-1 div.sk-parallel-item:first-child::after {align-self: flex-end;width: 50%;}#sk-container-id-1 div.sk-parallel-item:last-child::after {align-self: flex-start;width: 50%;}#sk-container-id-1 div.sk-parallel-item:only-child::after {width: 0;}#sk-container-id-1 div.sk-dashed-wrapped {border: 1px dashed gray;margin: 0 0.4em 0.5em 0.4em;box-sizing: border-box;padding-bottom: 0.4em;background-color: white;}#sk-container-id-1 div.sk-label label {font-family: monospace;font-weight: bold;display: inline-block;line-height: 1.2em;}#sk-container-id-1 div.sk-label-container {text-align: center;}#sk-container-id-1 div.sk-container {/* jupyter's `normalize.less` sets `[hidden] { display: none; }` but bootstrap.min.css set `[hidden] { display: none !important; }` so we also need the `!important` here to be able to override the default hidden behavior on the sphinx rendered scikit-learn.org. See: https://github.com/scikit-learn/scikit-learn/issues/21755 */display: inline-block !important;position: relative;}#sk-container-id-1 div.sk-text-repr-fallback {display: none;}</style><div id=\"sk-container-id-1\" class=\"sk-top-container\"><div class=\"sk-text-repr-fallback\"><pre>LinearDiscriminantAnalysis()</pre><b>In a Jupyter environment, please rerun this cell to show the HTML representation or trust the notebook. <br />On GitHub, the HTML representation is unable to render, please try loading this page with nbviewer.org.</b></div><div class=\"sk-container\" hidden><div class=\"sk-item\"><div class=\"sk-estimator sk-toggleable\"><input class=\"sk-toggleable__control sk-hidden--visually\" id=\"sk-estimator-id-1\" type=\"checkbox\" checked><label for=\"sk-estimator-id-1\" class=\"sk-toggleable__label sk-toggleable__label-arrow\">LinearDiscriminantAnalysis</label><div class=\"sk-toggleable__content\"><pre>LinearDiscriminantAnalysis()</pre></div></div></div></div></div>"
      ],
      "text/plain": [
       "LinearDiscriminantAnalysis()"
      ]
     },
     "execution_count": 73,
     "metadata": {},
     "output_type": "execute_result"
    }
   ],
   "source": [
    "lda = LinearDiscriminantAnalysis()\n",
    "lda.fit(X_train, y_train)"
   ]
  },
  {
   "cell_type": "code",
   "execution_count": 74,
   "id": "3c18c8a1-490e-439c-8ad1-31c4efb95bc0",
   "metadata": {},
   "outputs": [
    {
     "data": {
      "image/png": "[encoded data removed]",
      "text/plain": [
       "<Figure size 432x288 with 1 Axes>"
      ]
     },
     "metadata": {
      "needs_background": "light"
     },
     "output_type": "display_data"
    }
   ],
   "source": [
    "# visualize how much variance each component explains\n",
    "plt.plot(range(1, lda.explained_variance_ratio_.size + 1), lda.explained_variance_ratio_, 'ro-', linewidth=2)\n",
    "plt.title('Scree Plot')\n",
    "plt.xlabel('Principal Component')\n",
    "plt.ylabel('Explained Variance Ratio')\n",
    "plt.show()"
   ]
  },
  {
   "cell_type": "code",
   "execution_count": 75,
   "id": "e117d69f-6756-4465-87f8-e07462182f9c",
   "metadata": {},
   "outputs": [
    {
     "data": {
      "text/plain": [
       "array([6.42715224e-01, 1.71115719e-01, 1.11265967e-01, 3.71782980e-02,\n",
       "       2.31668550e-02, 7.99669656e-03, 5.77399017e-03, 7.26686177e-04,\n",
       "       6.05645398e-05])"
      ]
     },
     "execution_count": 75,
     "metadata": {},
     "output_type": "execute_result"
    }
   ],
   "source": [
    "lda.explained_variance_ratio_"
   ]
  },
  {
   "cell_type": "code",
   "execution_count": 78,
   "id": "4e55fa72-a45e-4348-9b99-40c4e5626c4a",
   "metadata": {},
   "outputs": [
    {
     "name": "stdout",
     "output_type": "stream",
     "text": [
      "1 components explains 64.27152237202984 of the variance\n",
      "2 components explains 81.38309428049465 of the variance\n",
      "3 components explains 92.50969095533563 of the variance\n",
      "4 components explains 96.22752075226506 of the variance\n",
      "5 components explains 98.5442062559439 of the variance\n",
      "6 components explains 99.34387591152006 of the variance\n",
      "7 components explains 99.92127492836386 of the variance\n",
      "8 components explains 99.99394354602192 of the variance\n",
      "9 components explains 99.99999999999999 of the variance\n"
     ]
    }
   ],
   "source": [
    "# calculating how much variance having n components explains\n",
    "# want dimensionally reduced data to explain at least 90% of the variance in original data\n",
    "totalExplained = 0\n",
    "\n",
    "for comp, ratio in enumerate(lda.explained_variance_ratio_):\n",
    "    totalExplained += ratio\n",
    "    print(comp+1, \"components explains\", totalExplained*100, \"of the variance\")"
   ]
  },
  {
   "cell_type": "code",
   "execution_count": 79,
   "id": "bc325c7e-82d0-4728-a137-318e1925fd24",
   "metadata": {},
   "outputs": [
    {
     "data": {
      "text/plain": [
       "array([ 2.,  7.,  9.,  4.,  8.,  1.,  6.,  5., 10.,  3.])"
      ]
     },
     "execution_count": 79,
     "metadata": {},
     "output_type": "execute_result"
    }
   ],
   "source": [
    "y_train.unique()"
   ]
  },
  {
   "cell_type": "code",
   "execution_count": 80,
   "id": "b1c29b69-6f79-4fe2-a39c-24ee60febcf3",
   "metadata": {},
   "outputs": [
    {
     "data": {
      "text/plain": [
       "{'Rap': 1,\n",
       " 'Electronic': 2,\n",
       " 'Hip-Hop': 3,\n",
       " 'Alternative': 4,\n",
       " 'Rock': 5,\n",
       " 'Blues': 6,\n",
       " 'Anime': 7,\n",
       " 'Country': 8,\n",
       " 'Jazz': 9,\n",
       " 'Classical': 10}"
      ]
     },
     "execution_count": 80,
     "metadata": {},
     "output_type": "execute_result"
    }
   ],
   "source": [
    "genre_to_num"
   ]
  },
  {
   "cell_type": "code",
   "execution_count": 81,
   "id": "232745fb-151c-487f-a6fc-5a2fc53b5071",
   "metadata": {},
   "outputs": [],
   "source": [
    "# performing LDA with 3 components\n",
    "lda = LinearDiscriminantAnalysis(n_components=3)"
   ]
  },
  {
   "cell_type": "code",
   "execution_count": 82,
   "id": "fa37031f-d7c5-4a10-88df-193ba5287006",
   "metadata": {},
   "outputs": [],
   "source": [
    "# fitting on training data\n",
    "# transforming both training and testing data\n",
    "X_train = lda.fit_transform(X_train, y_train)\n",
    "X_test = lda.transform(X_test)"
   ]
  },
  {
   "cell_type": "code",
   "execution_count": null,
   "id": "ab6a0dff-6058-46ee-8c45-9c30af2a6da5",
   "metadata": {},
   "outputs": [],
   "source": []
  },
  {
   "cell_type": "code",
   "execution_count": 83,
   "id": "e2a862ff-dd08-4d74-bd57-063299cb48ac",
   "metadata": {},
   "outputs": [
    {
     "data": {
      "text/plain": [
       "[2.0, 7.0, 9.0, 4.0, 8.0, 1.0, 6.0, 5.0, 10.0, 3.0]"
      ]
     },
     "execution_count": 83,
     "metadata": {},
     "output_type": "execute_result"
    }
   ],
   "source": [
    "list(y_train.unique())"
   ]
  },
  {
   "cell_type": "code",
   "execution_count": 84,
   "id": "dd0d00f9-18a5-46a2-b29a-03694ffc6965",
   "metadata": {},
   "outputs": [
    {
     "data": {
      "text/plain": [
       "{'Rap': 1,\n",
       " 'Electronic': 2,\n",
       " 'Hip-Hop': 3,\n",
       " 'Alternative': 4,\n",
       " 'Rock': 5,\n",
       " 'Blues': 6,\n",
       " 'Anime': 7,\n",
       " 'Country': 8,\n",
       " 'Jazz': 9,\n",
       " 'Classical': 10}"
      ]
     },
     "execution_count": 84,
     "metadata": {},
     "output_type": "execute_result"
    }
   ],
   "source": [
    "genre_to_num"
   ]
  },
  {
   "cell_type": "code",
   "execution_count": 85,
   "id": "2a19c7d9-b3fd-4834-a701-922484514714",
   "metadata": {},
   "outputs": [
    {
     "data": {
      "text/plain": [
       "['Electronic',\n",
       " 'Anime',\n",
       " 'Jazz',\n",
       " 'Alternative',\n",
       " 'Country',\n",
       " 'Rap',\n",
       " 'Blues',\n",
       " 'Rock',\n",
       " 'Classical',\n",
       " 'Hip-Hop']"
      ]
     },
     "execution_count": 85,
     "metadata": {},
     "output_type": "execute_result"
    }
   ],
   "source": [
    "# printing music genres as names for graph, rather than numbers\n",
    "genre_order = [k for k, v in sorted(genre_to_num.items(), key=lambda item: list(y_train.unique()).index(item[1]))]\n",
    "genre_order"
   ]
  },
  {
   "cell_type": "code",
   "execution_count": null,
   "id": "15d064db-5c0d-4026-82a5-f674a0cc2a57",
   "metadata": {},
   "outputs": [],
   "source": []
  },
  {
   "cell_type": "code",
   "execution_count": 86,
   "id": "7f814f44-789d-409c-ac7b-0143cc206f33",
   "metadata": {},
   "outputs": [
    {
     "data": {
      "image/png": "[encoded data removed]",
      "text/plain": [
       "<Figure size 576x576 with 1 Axes>"
      ]
     },
     "metadata": {
      "needs_background": "light"
     },
     "output_type": "display_data"
    }
   ],
   "source": [
    "# visualization of first 2 components\n",
    "colors = ['#1f77b4', '#ff7f0e', '#2ca02c', '#d62728', '#9467bd', '#8c564b', '#e377c2', '#7f7f7f', '#bcbd22','#79B696']\n",
    "\n",
    "colors = ['#1f77b4', '#ff7f0e', '#2ca02c', '#d62728', '#9467bd', '#8c564b', '#e377c2', '#7f7f7f', '#bcbd22','#79B696']\n",
    "\n",
    "plt.figure(figsize=(8, 8))\n",
    "for i, c, label in zip(range(10), colors, genre_order):\n",
    "    plt.scatter(X_train[y_train==i, 0], X_train[y_train==i, 1], c=c, label=label)\n",
    "plt.xlabel('Component 1')\n",
    "plt.ylabel('Component 2')\n",
    "plt.legend()\n",
    "plt.show()"
   ]
  },
  {
   "cell_type": "code",
   "execution_count": 87,
   "id": "033d36c2-f762-4563-bc26-41cbb8b6a6ad",
   "metadata": {},
   "outputs": [
    {
     "data": {
      "image/png": "[encoded data removed]",
      "text/plain": [
       "<Figure size 576x576 with 1 Axes>"
      ]
     },
     "metadata": {
      "needs_background": "light"
     },
     "output_type": "display_data"
    }
   ],
   "source": [
    "# visualization of first three components\n",
    "colors = ['#1f77b4', '#ff7f0e', '#2ca02c', '#d62728', '#9467bd', '#8c564b', '#e377c2', '#7f7f7f', '#bcbd22','#79B696']\n",
    "\n",
    "fig = plt.figure(figsize=(8, 8))\n",
    "ax = fig.add_subplot(111, projection='3d')\n",
    "for i, c, label in zip(range(10), colors, genre_order):\n",
    "    ax.scatter(X_train[y_train==i, 0], X_train[y_train==i, 1], X_train[y_train==i, 2], c=c, label=label)\n",
    "ax.set_xlabel('Component 1')\n",
    "ax.set_ylabel('Component 2')\n",
    "ax.set_zlabel('Component 3')\n",
    "ax.legend()\n",
    "plt.title(\"Figure 1: Visualization of First 3 Principal Components\")\n",
    "plt.show()\n"
   ]
  },
  {
   "cell_type": "code",
   "execution_count": 88,
   "id": "07bb832c-173e-4d75-a28e-495c95f57777",
   "metadata": {},
   "outputs": [],
   "source": [
    "coef = lda.coef_[0]"
   ]
  },
  {
   "cell_type": "code",
   "execution_count": 89,
   "id": "604f23cc-cf32-4416-9567-c31f8b84e0a6",
   "metadata": {},
   "outputs": [
    {
     "name": "stdout",
     "output_type": "stream",
     "text": [
      "Feature 1: 17.6345\n",
      "Feature 2: -1.7965\n",
      "Feature 3: 6.8051\n",
      "Feature 4: -7.9058\n",
      "Feature 5: -2.4910\n",
      "Feature 6: -1.2473\n",
      "Feature 7: -0.0057\n",
      "Feature 8: 0.7776\n",
      "Feature 9: 5.2076\n",
      "Feature 10: 11.9094\n",
      "Feature 11: 0.2470\n",
      "Feature 12: -2.6436\n",
      "Feature 13: -0.3222\n"
     ]
    }
   ],
   "source": [
    "# looking for features with highest importance\n",
    "for i, c in enumerate(coef):\n",
    "    print(\"Feature %d: %.4f\" % (i+1, c))"
   ]
  },
  {
   "cell_type": "code",
   "execution_count": 90,
   "id": "3b5be921-11e2-4524-8b44-693a5d96baa1",
   "metadata": {},
   "outputs": [
    {
     "data": {
      "text/plain": [
       "Index(['popularity', 'acousticness', 'danceability', 'duration_ms', 'energy',\n",
       "       'instrumentalness', 'key', 'liveness', 'loudness', 'speechiness',\n",
       "       'tempo', 'valence', 'mode_Major', 'music_genre'],\n",
       "      dtype='object')"
      ]
     },
     "execution_count": 90,
     "metadata": {},
     "output_type": "execute_result"
    }
   ],
   "source": [
    "trainData.columns"
   ]
  },
  {
   "cell_type": "code",
   "execution_count": 91,
   "id": "81fb1e6a-0086-4122-98d1-c132dc83f16c",
   "metadata": {},
   "outputs": [
    {
     "name": "stdout",
     "output_type": "stream",
     "text": [
      "Most important feature: popularity\n",
      "Second most important feature: speechiness\n",
      "Third most important feature: duration_ms\n"
     ]
    }
   ],
   "source": [
    "print(\"Most important feature:\", trainData.columns[0])\n",
    "print(\"Second most important feature:\", trainData.columns[9])\n",
    "print(\"Third most important feature:\", trainData.columns[3])"
   ]
  },
  {
   "cell_type": "code",
   "execution_count": null,
   "id": "0891b377-9c80-4847-b01b-41cc8aaa0aea",
   "metadata": {},
   "outputs": [],
   "source": []
  },
  {
   "cell_type": "markdown",
   "id": "ff8d2e4a-3389-4fa1-a131-8537c524f307",
   "metadata": {},
   "source": [
    "### Classification"
   ]
  },
  {
   "cell_type": "code",
   "execution_count": 92,
   "id": "b0f4b29b-675a-4ccf-8f05-cf60bbe19593",
   "metadata": {},
   "outputs": [],
   "source": [
    "# testing numerous classification methods to find the best"
   ]
  },
  {
   "cell_type": "markdown",
   "id": "23fcd473-b8d7-4977-95c7-bda4c64fa94d",
   "metadata": {},
   "source": [
    "#### Logistic Regression"
   ]
  },
  {
   "cell_type": "code",
   "execution_count": 93,
   "id": "03656b22-d6bb-4b70-8e4a-3f8f3e00c88d",
   "metadata": {},
   "outputs": [],
   "source": [
    "logreg = LogisticRegression(multi_class='multinomial')\n",
    "\n",
    "# Fit the model to the training data\n",
    "logreg.fit(X_train, y_train)\n",
    "\n",
    "# Predict labels and probabilities for the test set\n",
    "y_pred = logreg.predict(X_test)\n",
    "y_pred_proba = logreg.predict_proba(X_test)\n",
    "\n",
    "# Compute AUC score\n",
    "auc_score = roc_auc_score(y_test, y_pred_proba, multi_class = 'ovr')"
   ]
  },
  {
   "cell_type": "code",
   "execution_count": 94,
   "id": "e68dab90-e5c1-4366-a44e-22ff05eb202f",
   "metadata": {},
   "outputs": [
    {
     "name": "stdout",
     "output_type": "stream",
     "text": [
      "AUC score: 0.8859978222222222\n"
     ]
    }
   ],
   "source": [
    "print(\"AUC score:\", auc_score)\n"
   ]
  },
  {
   "cell_type": "markdown",
   "id": "a33edad2-437f-4ba9-8b6a-c64351e6d252",
   "metadata": {},
   "source": [
    "#### KNN"
   ]
  },
  {
   "cell_type": "code",
   "execution_count": 95,
   "id": "30c1e2f1-d19b-4a82-902a-d454d3e52438",
   "metadata": {},
   "outputs": [],
   "source": [
    "knn = KNeighborsClassifier(n_neighbors=10)\n",
    "\n",
    "# Fit the model to the training data\n",
    "knn.fit(X_train, y_train)\n",
    "\n",
    "# Predict labels and probabilities for the test set\n",
    "y_pred = knn.predict(X_test)\n",
    "y_prob = knn.predict_proba(X_test)\n",
    "\n",
    "# Compute AUC score\n",
    "auc_score = roc_auc_score(y_test, y_prob, multi_class = 'ovr')"
   ]
  },
  {
   "cell_type": "code",
   "execution_count": 96,
   "id": "ed453db8-cb6a-4324-bbce-ba9ca095625f",
   "metadata": {},
   "outputs": [
    {
     "name": "stdout",
     "output_type": "stream",
     "text": [
      "AUC score: 0.8495230444444445\n"
     ]
    }
   ],
   "source": [
    "print(\"AUC score:\", auc_score)"
   ]
  },
  {
   "cell_type": "markdown",
   "id": "50746793-7386-4c9b-bcbb-d57b325a029d",
   "metadata": {},
   "source": [
    "#### Decision Tree"
   ]
  },
  {
   "cell_type": "code",
   "execution_count": 97,
   "id": "319a6be9-0334-4e92-b516-e85923eb5e9c",
   "metadata": {},
   "outputs": [],
   "source": [
    "clf = DecisionTreeClassifier()\n",
    "\n",
    "clf = clf.fit(X_train, y_train)\n",
    "\n",
    "y_pred = clf.predict(X_test)\n",
    "y_pred_proba = clf.predict_proba(X_test)\n",
    "\n",
    "auc_score = roc_auc_score(y_test, y_pred_proba, multi_class='ovr')"
   ]
  },
  {
   "cell_type": "code",
   "execution_count": 98,
   "id": "087717e1-9e27-49e3-af34-a13adf367ddc",
   "metadata": {},
   "outputs": [
    {
     "name": "stdout",
     "output_type": "stream",
     "text": [
      "AUC score: 0.6531947111111112\n"
     ]
    }
   ],
   "source": [
    "print(\"AUC score:\", auc_score)"
   ]
  },
  {
   "cell_type": "code",
   "execution_count": null,
   "id": "4eb08208-125a-4f11-92d0-b3921b3d961d",
   "metadata": {},
   "outputs": [],
   "source": []
  },
  {
   "cell_type": "markdown",
   "id": "26a379c3-afca-4b80-9363-f8dc02a00f08",
   "metadata": {},
   "source": [
    "#### Random Forest"
   ]
  },
  {
   "cell_type": "code",
   "execution_count": 99,
   "id": "4609d459-4de8-4f6a-9608-1cb442164345",
   "metadata": {},
   "outputs": [],
   "source": [
    "rf = RandomForestClassifier(n_estimators = 200, class_weight='balanced')\n",
    "\n",
    "# Train the classifier on the training data\n",
    "rf.fit(X_train, y_train)\n",
    "\n",
    "# Make predictions on the testing data\n",
    "y_pred = rf.predict(X_test)\n",
    "y_pred_proba = rf.predict_proba(X_test)\n",
    "\n",
    "auc_score = roc_auc_score(y_test, y_pred_proba, multi_class='ovr')"
   ]
  },
  {
   "cell_type": "code",
   "execution_count": 100,
   "id": "6eb7b0b1-dd19-47cd-82fa-02a81b877cf5",
   "metadata": {},
   "outputs": [
    {
     "name": "stdout",
     "output_type": "stream",
     "text": [
      "AUC score: 0.8722453111111111\n"
     ]
    }
   ],
   "source": [
    "print(\"AUC score:\", auc_score)"
   ]
  },
  {
   "cell_type": "markdown",
   "id": "c08bf62b-5cdf-443d-9ef4-a1a2913b48ab",
   "metadata": {},
   "source": [
    "#### Gradient Boosting"
   ]
  },
  {
   "cell_type": "code",
   "execution_count": 101,
   "id": "765d1e3b-1726-4e5b-867d-4189393fa282",
   "metadata": {},
   "outputs": [
    {
     "name": "stdout",
     "output_type": "stream",
     "text": [
      "AUC score: 0.8955732444444445\n"
     ]
    }
   ],
   "source": [
    "gb = GradientBoostingClassifier(learning_rate=0.08) # hypertune learning rate parameter\n",
    "\n",
    "# Train the classifier on the training data\n",
    "gb.fit(X_train, y_train)\n",
    "\n",
    "# Make predictions on the testing data\n",
    "y_pred_proba = gb.predict_proba(X_test)\n",
    "y_pred = gb.predict(X_test)\n",
    "\n",
    "# Compute the AUC score\n",
    "auc_score = roc_auc_score(y_test, y_pred_proba, multi_class='ovr')\n",
    "\n",
    "print(\"AUC score:\", auc_score)"
   ]
  },
  {
   "cell_type": "markdown",
   "id": "4718d11b-39bc-47fe-b296-64abd8a1ed70",
   "metadata": {},
   "source": [
    "#### SVM"
   ]
  },
  {
   "cell_type": "code",
   "execution_count": 102,
   "id": "2ca9ac71-abbf-40d8-bd8f-1311760ecbe7",
   "metadata": {},
   "outputs": [],
   "source": [
    "# Train the SVM classifier\n",
    "svm = SVC(kernel='linear', probability=True)\n",
    "\n",
    "svm.fit(X_train, y_train)\n",
    "\n",
    "y_pred = svm.predict(X_test)\n",
    "y_score = svm.predict_proba(X_test)\n",
    "\n",
    "roc_auc = roc_auc_score(y_test, y_score, multi_class='ovr')"
   ]
  },
  {
   "cell_type": "code",
   "execution_count": 103,
   "id": "f651dd64-030c-4e12-9d7c-fbb947a785bf",
   "metadata": {},
   "outputs": [
    {
     "name": "stdout",
     "output_type": "stream",
     "text": [
      "AUC score: 0.8885858666666667\n"
     ]
    }
   ],
   "source": [
    "print(\"AUC score:\", roc_auc)\n"
   ]
  },
  {
   "cell_type": "markdown",
   "id": "b778e450-9345-485d-b41b-34b6445749d5",
   "metadata": {},
   "source": [
    "#### adaBoost"
   ]
  },
  {
   "cell_type": "code",
   "execution_count": 104,
   "id": "27fd4633-f80d-48f5-8ecf-5d8e4a063702",
   "metadata": {},
   "outputs": [],
   "source": [
    "ada = AdaBoostClassifier(n_estimators=13)\n",
    "\n",
    "# Fit the model with the training data\n",
    "ada.fit(X_train, y_train)\n",
    "\n",
    "# Make predictions on the testing data\n",
    "y_pred = ada.predict(X_test)\n",
    "y_proba = ada.predict_proba(X_test)\n",
    "\n",
    "roc_auc = roc_auc_score(y_test, y_proba, multi_class='ovr')"
   ]
  },
  {
   "cell_type": "code",
   "execution_count": 105,
   "id": "6d3f4821-40d7-4575-a3d0-5198193650ff",
   "metadata": {},
   "outputs": [
    {
     "name": "stdout",
     "output_type": "stream",
     "text": [
      "AUC score: 0.8167564444444444\n"
     ]
    }
   ],
   "source": [
    "print(\"AUC score:\", roc_auc)"
   ]
  },
  {
   "cell_type": "code",
   "execution_count": null,
   "id": "2fc469ec-2d7d-4452-9acc-57523d2cd80b",
   "metadata": {},
   "outputs": [],
   "source": []
  },
  {
   "cell_type": "markdown",
   "id": "250dfccf-6431-42d1-b1cd-c16662dc1c27",
   "metadata": {},
   "source": [
    "#### Final Model + AUC Scores + ROC Curve Display"
   ]
  },
  {
   "cell_type": "code",
   "execution_count": null,
   "id": "e02da470-2e25-47d2-8101-49fe98ed3238",
   "metadata": {},
   "outputs": [],
   "source": [
    "# Best model outcome: Gradient Boosting\n",
    "gb = GradientBoostingClassifier(learning_rate=0.08)\n",
    "\n",
    "# Train the classifier on the training data\n",
    "gb.fit(X_train, y_train)\n",
    "\n",
    "# Make predictions on the testing data\n",
    "y_pred_proba = gb.predict_proba(X_test)\n",
    "y_pred = gb.predict(X_test)\n",
    "\n",
    "# Compute the AUC score\n",
    "auc_score = roc_auc_score(y_test, y_pred_proba, multi_class='ovr')\n",
    "\n",
    "# Compute the accuracy score\n",
    "accuracy = accuracy_score(y_test, y_pred)\n",
    "\n",
    "print(\"AUC score:\", auc_score)\n",
    "print(\"Accuracy:\", accuracy)"
   ]
  },
  {
   "cell_type": "code",
   "execution_count": null,
   "id": "b4dcbea9-737d-434c-ae85-6c46d72081ba",
   "metadata": {},
   "outputs": [],
   "source": []
  },
  {
   "cell_type": "code",
   "execution_count": null,
   "id": "0f67649a-43c2-4328-b84a-75ea8ed3a892",
   "metadata": {},
   "outputs": [],
   "source": [
    "label_binarizer = LabelBinarizer().fit(y_train)\n",
    "y_onehot_test = label_binarizer.transform(y_test)\n",
    "y_onehot_test.shape "
   ]
  },
  {
   "cell_type": "code",
   "execution_count": null,
   "id": "1d98d998-099a-4fa7-b6a1-0c81c535a55b",
   "metadata": {},
   "outputs": [],
   "source": [
    "fpr, tpr, roc_auc = dict(), dict(), dict()\n",
    "# Compute micro-average ROC curve and ROC area\n",
    "fpr[\"micro\"], tpr[\"micro\"], _ = roc_curve(y_onehot_test.ravel(), y_pred_proba.ravel())"
   ]
  },
  {
   "cell_type": "code",
   "execution_count": null,
   "id": "1907b945-3fdf-4180-90dd-a16984f5d140",
   "metadata": {},
   "outputs": [],
   "source": [
    "#fpr, tpr, and roc_auc for all averaging strategies\n",
    "fpr, tpr, roc_auc = dict(), dict(), dict()"
   ]
  },
  {
   "cell_type": "code",
   "execution_count": null,
   "id": "5afe9364-f25d-4a8a-8fde-46ad442cc971",
   "metadata": {},
   "outputs": [],
   "source": [
    "# Compute micro-average ROC curve and ROC area\n",
    "fpr[\"micro\"], tpr[\"micro\"], _ = roc_curve(y_onehot_test.ravel(), y_pred_proba.ravel())\n",
    "roc_auc[\"micro\"] = auc(fpr[\"micro\"], tpr[\"micro\"])\n",
    "\n",
    "print(f\"Micro-averaged One-vs-Rest ROC AUC score:\\n{roc_auc['micro']:.2f}\")"
   ]
  },
  {
   "cell_type": "code",
   "execution_count": null,
   "id": "31004e4e-2abe-435a-b3fc-8d7fcd976ee0",
   "metadata": {},
   "outputs": [],
   "source": [
    "n_classes = len(np.unique(y))"
   ]
  },
  {
   "cell_type": "code",
   "execution_count": null,
   "id": "489af5bd-8cde-436e-b596-7e6f442f2279",
   "metadata": {},
   "outputs": [],
   "source": [
    "## Macro average AUC Score\n",
    "for i in range(n_classes):\n",
    "    fpr[i], tpr[i], _ = roc_curve(y_onehot_test[:, i], y_pred_proba[:, i])\n",
    "    roc_auc[i] = auc(fpr[i], tpr[i])\n",
    "\n",
    "fpr_grid = np.linspace(0.0, 1.0, 1000)\n",
    "\n",
    "# Interpolate all ROC curves at these points\n",
    "mean_tpr = np.zeros_like(fpr_grid)\n",
    "\n",
    "for i in range(n_classes):\n",
    "    mean_tpr += np.interp(fpr_grid, fpr[i], tpr[i])  # linear interpolation\n",
    "\n",
    "# Average it and compute AUC\n",
    "mean_tpr /= n_classes\n",
    "\n",
    "fpr[\"macro\"] = fpr_grid\n",
    "tpr[\"macro\"] = mean_tpr\n",
    "roc_auc[\"macro\"] = auc(fpr[\"macro\"], tpr[\"macro\"])\n",
    "\n",
    "print(f\"Macro-averaged One-vs-Rest ROC AUC score:\\n{roc_auc['macro']:.2f}\")\n"
   ]
  },
  {
   "cell_type": "code",
   "execution_count": null,
   "id": "01d097fc-1168-4def-95b5-5bb394ca9f6c",
   "metadata": {},
   "outputs": [],
   "source": [
    "# plotting the AUC ROC curve for all classes and the macro avg\n",
    "fig, ax = plt.subplots(figsize=(7, 7))\n",
    "\n",
    "plt.plot(\n",
    "    fpr[\"macro\"],\n",
    "    tpr[\"macro\"],\n",
    "    label=f\"macro-average ROC curve (AUC = {roc_auc['macro']:.2f})\",\n",
    "    color=\"navy\",\n",
    "    linestyle=\":\",\n",
    "    linewidth=4,\n",
    ")\n",
    "\n",
    "colors = cycle(sns.color_palette())\n",
    "for class_id, color in zip(range(n_classes), colors):\n",
    "    RocCurveDisplay.from_predictions(\n",
    "        y_onehot_test[:, class_id],\n",
    "        y_pred_proba[:, class_id],\n",
    "        #name=f\"ROC curve for {target_names[class_id]}\",\n",
    "        name=f\"ROC curve for {list(genre_to_num.keys())[class_id]}\",\n",
    "        color=color,\n",
    "        ax=ax,\n",
    "    )\n",
    "\n",
    "plt.plot([0, 1], [0, 1], \"k--\", label=\"ROC curve for chance level (AUC = 0.5)\")\n",
    "plt.axis(\"square\")\n",
    "plt.xlabel(\"False Positive Rate\")\n",
    "plt.ylabel(\"True Positive Rate\")\n",
    "plt.title(\"Figure 2: AUC ROC Curve\\nOne-vs-Rest multiclass\")\n",
    "plt.legend()\n",
    "plt.show()\n"
   ]
  },
  {
   "cell_type": "code",
   "execution_count": null,
   "id": "2488ff10-8907-40fc-b937-ba11c7db8c29",
   "metadata": {},
   "outputs": [],
   "source": []
  }
 ],
 "metadata": {
  "kernelspec": {
   "display_name": "Python 3",
   "language": "python",
   "name": "python3"
  },
  "language_info": {
   "codemirror_mode": {
    "name": "ipython",
    "version": 3
   },
   "file_extension": ".py",
   "mimetype": "text/x-python",
   "name": "python",
   "nbconvert_exporter": "python",
   "pygments_lexer": "ipython3",
   "version": "3.8.8"
  }
 },
 "nbformat": 4,
 "nbformat_minor": 5
}
